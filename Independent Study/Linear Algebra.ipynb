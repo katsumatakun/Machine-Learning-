{
 "cells": [
  {
   "cell_type": "code",
   "execution_count": 1,
   "metadata": {},
   "outputs": [],
   "source": [
    "using Statistics, Plots, Distributions, LinearAlgebra"
   ]
  },
  {
   "cell_type": "markdown",
   "metadata": {},
   "source": [
    "#### Theorem5 in p.341\n",
    "Let $\\{u_1, ...., u_p\\}$ be an orthogonal basis for a subspace $W$ for $\\mathbb{R}^n$. For each $y$ in $W$, the weights in the linear"
   ]
  },
  {
   "cell_type": "markdown",
   "metadata": {},
   "source": [
    "#### The Orthogonal Projection of y onto u"
   ]
  },
  {
   "cell_type": "code",
   "execution_count": 13,
   "metadata": {},
   "outputs": [
    {
     "data": {
      "text/plain": [
       "([8.0, 4.0], [-1.0, 2.0])"
      ]
     },
     "execution_count": 13,
     "metadata": {},
     "output_type": "execute_result"
    }
   ],
   "source": [
    "y = [1,2,3]\n",
    "u = [3,4,5]\n",
    "y'*u #dot produt\n",
    "\n",
    "function orthogonal_projection(y,u)\n",
    "    proj_y = y'*u/(u'*u)*u\n",
    "    z = y - proj_y\n",
    "    return proj_y,z\n",
    "end\n",
    "\n",
    "y = [7,6]\n",
    "u = [4,2]\n",
    "a,b = orthogonal_projection(y,u)\n"
   ]
  },
  {
   "cell_type": "code",
   "execution_count": null,
   "metadata": {},
   "outputs": [],
   "source": []
  }
 ],
 "metadata": {
  "kernelspec": {
   "display_name": "Julia 1.3.1",
   "language": "julia",
   "name": "julia-1.3"
  },
  "language_info": {
   "file_extension": ".jl",
   "mimetype": "application/julia",
   "name": "julia",
   "version": "1.3.1"
  }
 },
 "nbformat": 4,
 "nbformat_minor": 4
}
