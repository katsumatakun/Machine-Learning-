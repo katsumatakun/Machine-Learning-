{
 "cells": [
  {
   "cell_type": "code",
   "execution_count": 1,
   "metadata": {},
   "outputs": [],
   "source": [
    "import numpy as np\n",
    "import pandas as pd"
   ]
  },
  {
   "cell_type": "code",
   "execution_count": 3,
   "metadata": {},
   "outputs": [
    {
     "data": {
      "text/plain": [
       "0    1.0\n",
       "1    3.0\n",
       "2    5.0\n",
       "3    NaN\n",
       "4    5.0\n",
       "5    8.0\n",
       "dtype: float64"
      ]
     },
     "execution_count": 3,
     "metadata": {},
     "output_type": "execute_result"
    }
   ],
   "source": [
    "s = pd.Series([1,3,5,np.nan,5,8])\n",
    "s"
   ]
  },
  {
   "cell_type": "code",
   "execution_count": 5,
   "metadata": {},
   "outputs": [
    {
     "data": {
      "text/plain": [
       "DatetimeIndex(['2020-05-11', '2020-05-12', '2020-05-13', '2020-05-14',\n",
       "               '2020-05-15', '2020-05-16'],\n",
       "              dtype='datetime64[ns]', freq='D')"
      ]
     },
     "execution_count": 5,
     "metadata": {},
     "output_type": "execute_result"
    }
   ],
   "source": [
    "dates = pd.date_range(\"20200511\", periods=6)\n",
    "dates"
   ]
  },
  {
   "cell_type": "code",
   "execution_count": 8,
   "metadata": {},
   "outputs": [
    {
     "data": {
      "text/html": [
       "<div>\n",
       "<style scoped>\n",
       "    .dataframe tbody tr th:only-of-type {\n",
       "        vertical-align: middle;\n",
       "    }\n",
       "\n",
       "    .dataframe tbody tr th {\n",
       "        vertical-align: top;\n",
       "    }\n",
       "\n",
       "    .dataframe thead th {\n",
       "        text-align: right;\n",
       "    }\n",
       "</style>\n",
       "<table border=\"1\" class=\"dataframe\">\n",
       "  <thead>\n",
       "    <tr style=\"text-align: right;\">\n",
       "      <th></th>\n",
       "      <th>A</th>\n",
       "      <th>B</th>\n",
       "      <th>C</th>\n",
       "      <th>D</th>\n",
       "    </tr>\n",
       "  </thead>\n",
       "  <tbody>\n",
       "    <tr>\n",
       "      <th>2020-05-11</th>\n",
       "      <td>-0.579677</td>\n",
       "      <td>-0.866685</td>\n",
       "      <td>-0.688581</td>\n",
       "      <td>0.322127</td>\n",
       "    </tr>\n",
       "    <tr>\n",
       "      <th>2020-05-12</th>\n",
       "      <td>0.461882</td>\n",
       "      <td>1.087116</td>\n",
       "      <td>0.125865</td>\n",
       "      <td>-0.988006</td>\n",
       "    </tr>\n",
       "    <tr>\n",
       "      <th>2020-05-13</th>\n",
       "      <td>-1.492901</td>\n",
       "      <td>0.519476</td>\n",
       "      <td>0.119438</td>\n",
       "      <td>-0.005100</td>\n",
       "    </tr>\n",
       "    <tr>\n",
       "      <th>2020-05-14</th>\n",
       "      <td>2.488324</td>\n",
       "      <td>-0.715106</td>\n",
       "      <td>0.248913</td>\n",
       "      <td>-1.282823</td>\n",
       "    </tr>\n",
       "    <tr>\n",
       "      <th>2020-05-15</th>\n",
       "      <td>2.610032</td>\n",
       "      <td>-0.454421</td>\n",
       "      <td>-0.150090</td>\n",
       "      <td>2.469841</td>\n",
       "    </tr>\n",
       "    <tr>\n",
       "      <th>2020-05-16</th>\n",
       "      <td>1.587543</td>\n",
       "      <td>0.271019</td>\n",
       "      <td>0.357380</td>\n",
       "      <td>0.823892</td>\n",
       "    </tr>\n",
       "  </tbody>\n",
       "</table>\n",
       "</div>"
      ],
      "text/plain": [
       "                   A         B         C         D\n",
       "2020-05-11 -0.579677 -0.866685 -0.688581  0.322127\n",
       "2020-05-12  0.461882  1.087116  0.125865 -0.988006\n",
       "2020-05-13 -1.492901  0.519476  0.119438 -0.005100\n",
       "2020-05-14  2.488324 -0.715106  0.248913 -1.282823\n",
       "2020-05-15  2.610032 -0.454421 -0.150090  2.469841\n",
       "2020-05-16  1.587543  0.271019  0.357380  0.823892"
      ]
     },
     "execution_count": 8,
     "metadata": {},
     "output_type": "execute_result"
    }
   ],
   "source": [
    "df = pd.DataFrame(np.random.randn(6,4), index = dates, columns=[\"A\", \"B\", \"C\", \"D\"])\n",
    "df"
   ]
  },
  {
   "cell_type": "code",
   "execution_count": 12,
   "metadata": {},
   "outputs": [
    {
     "data": {
      "text/html": [
       "<div>\n",
       "<style scoped>\n",
       "    .dataframe tbody tr th:only-of-type {\n",
       "        vertical-align: middle;\n",
       "    }\n",
       "\n",
       "    .dataframe tbody tr th {\n",
       "        vertical-align: top;\n",
       "    }\n",
       "\n",
       "    .dataframe thead th {\n",
       "        text-align: right;\n",
       "    }\n",
       "</style>\n",
       "<table border=\"1\" class=\"dataframe\">\n",
       "  <thead>\n",
       "    <tr style=\"text-align: right;\">\n",
       "      <th></th>\n",
       "      <th>A</th>\n",
       "      <th>B</th>\n",
       "      <th>C</th>\n",
       "    </tr>\n",
       "  </thead>\n",
       "  <tbody>\n",
       "    <tr>\n",
       "      <th>0</th>\n",
       "      <td>1</td>\n",
       "      <td>2020-05-11</td>\n",
       "      <td>1</td>\n",
       "    </tr>\n",
       "    <tr>\n",
       "      <th>1</th>\n",
       "      <td>1</td>\n",
       "      <td>2020-05-11</td>\n",
       "      <td>1</td>\n",
       "    </tr>\n",
       "    <tr>\n",
       "      <th>2</th>\n",
       "      <td>1</td>\n",
       "      <td>2020-05-11</td>\n",
       "      <td>1</td>\n",
       "    </tr>\n",
       "    <tr>\n",
       "      <th>3</th>\n",
       "      <td>1</td>\n",
       "      <td>2020-05-11</td>\n",
       "      <td>1</td>\n",
       "    </tr>\n",
       "  </tbody>\n",
       "</table>\n",
       "</div>"
      ],
      "text/plain": [
       "   A          B  C\n",
       "0  1 2020-05-11  1\n",
       "1  1 2020-05-11  1\n",
       "2  1 2020-05-11  1\n",
       "3  1 2020-05-11  1"
      ]
     },
     "execution_count": 12,
     "metadata": {},
     "output_type": "execute_result"
    }
   ],
   "source": [
    "df2 = pd.DataFrame({\"A\": 1, \"B\":pd.Timestamp(\"20200511\"),\"C\": pd.Series(1, index=list(range(4)), dtype=\"int64\")})\n",
    "df2"
   ]
  },
  {
   "cell_type": "code",
   "execution_count": 18,
   "metadata": {},
   "outputs": [
    {
     "data": {
      "text/html": [
       "<div>\n",
       "<style scoped>\n",
       "    .dataframe tbody tr th:only-of-type {\n",
       "        vertical-align: middle;\n",
       "    }\n",
       "\n",
       "    .dataframe tbody tr th {\n",
       "        vertical-align: top;\n",
       "    }\n",
       "\n",
       "    .dataframe thead th {\n",
       "        text-align: right;\n",
       "    }\n",
       "</style>\n",
       "<table border=\"1\" class=\"dataframe\">\n",
       "  <thead>\n",
       "    <tr style=\"text-align: right;\">\n",
       "      <th></th>\n",
       "      <th>A</th>\n",
       "      <th>B</th>\n",
       "      <th>C</th>\n",
       "      <th>D</th>\n",
       "      <th>E</th>\n",
       "    </tr>\n",
       "  </thead>\n",
       "  <tbody>\n",
       "    <tr>\n",
       "      <th>0</th>\n",
       "      <td>1</td>\n",
       "      <td>2020-05-11</td>\n",
       "      <td>1</td>\n",
       "      <td>test</td>\n",
       "      <td>foo</td>\n",
       "    </tr>\n",
       "    <tr>\n",
       "      <th>1</th>\n",
       "      <td>1</td>\n",
       "      <td>2020-05-11</td>\n",
       "      <td>1</td>\n",
       "      <td>train</td>\n",
       "      <td>foo</td>\n",
       "    </tr>\n",
       "    <tr>\n",
       "      <th>2</th>\n",
       "      <td>1</td>\n",
       "      <td>2020-05-11</td>\n",
       "      <td>1</td>\n",
       "      <td>test</td>\n",
       "      <td>foo</td>\n",
       "    </tr>\n",
       "    <tr>\n",
       "      <th>3</th>\n",
       "      <td>1</td>\n",
       "      <td>2020-05-11</td>\n",
       "      <td>1</td>\n",
       "      <td>train</td>\n",
       "      <td>foo</td>\n",
       "    </tr>\n",
       "  </tbody>\n",
       "</table>\n",
       "</div>"
      ],
      "text/plain": [
       "   A          B  C      D    E\n",
       "0  1 2020-05-11  1   test  foo\n",
       "1  1 2020-05-11  1  train  foo\n",
       "2  1 2020-05-11  1   test  foo\n",
       "3  1 2020-05-11  1  train  foo"
      ]
     },
     "execution_count": 18,
     "metadata": {},
     "output_type": "execute_result"
    }
   ],
   "source": [
    "df2[\"D\"] = pd.Categorical([\"test\", \"train\", \"test\", \"train\"])\n",
    "df2[\"E\"] = \"foo\"\n",
    "df2"
   ]
  },
  {
   "cell_type": "code",
   "execution_count": 19,
   "metadata": {},
   "outputs": [
    {
     "data": {
      "text/plain": [
       "A             int64\n",
       "B    datetime64[ns]\n",
       "C             int64\n",
       "D          category\n",
       "E            object\n",
       "dtype: object"
      ]
     },
     "execution_count": 19,
     "metadata": {},
     "output_type": "execute_result"
    }
   ],
   "source": [
    "df2.dtypes"
   ]
  },
  {
   "cell_type": "code",
   "execution_count": 24,
   "metadata": {},
   "outputs": [
    {
     "data": {
      "text/plain": [
       "<bound method _arith_method_FRAME.<locals>.f of    A          B  C      D    E\n",
       "0  1 2020-05-11  1   test  foo\n",
       "1  1 2020-05-11  1  train  foo\n",
       "2  1 2020-05-11  1   test  foo\n",
       "3  1 2020-05-11  1  train  foo>"
      ]
     },
     "execution_count": 24,
     "metadata": {},
     "output_type": "execute_result"
    }
   ],
   "source": [
    "df2.add"
   ]
  },
  {
   "cell_type": "code",
   "execution_count": 25,
   "metadata": {},
   "outputs": [
    {
     "data": {
      "text/html": [
       "<div>\n",
       "<style scoped>\n",
       "    .dataframe tbody tr th:only-of-type {\n",
       "        vertical-align: middle;\n",
       "    }\n",
       "\n",
       "    .dataframe tbody tr th {\n",
       "        vertical-align: top;\n",
       "    }\n",
       "\n",
       "    .dataframe thead th {\n",
       "        text-align: right;\n",
       "    }\n",
       "</style>\n",
       "<table border=\"1\" class=\"dataframe\">\n",
       "  <thead>\n",
       "    <tr style=\"text-align: right;\">\n",
       "      <th></th>\n",
       "      <th>A</th>\n",
       "      <th>B</th>\n",
       "      <th>C</th>\n",
       "      <th>D</th>\n",
       "    </tr>\n",
       "  </thead>\n",
       "  <tbody>\n",
       "    <tr>\n",
       "      <th>2020-05-11</th>\n",
       "      <td>-0.579677</td>\n",
       "      <td>-0.866685</td>\n",
       "      <td>-0.688581</td>\n",
       "      <td>0.322127</td>\n",
       "    </tr>\n",
       "    <tr>\n",
       "      <th>2020-05-12</th>\n",
       "      <td>0.461882</td>\n",
       "      <td>1.087116</td>\n",
       "      <td>0.125865</td>\n",
       "      <td>-0.988006</td>\n",
       "    </tr>\n",
       "    <tr>\n",
       "      <th>2020-05-13</th>\n",
       "      <td>-1.492901</td>\n",
       "      <td>0.519476</td>\n",
       "      <td>0.119438</td>\n",
       "      <td>-0.005100</td>\n",
       "    </tr>\n",
       "    <tr>\n",
       "      <th>2020-05-14</th>\n",
       "      <td>2.488324</td>\n",
       "      <td>-0.715106</td>\n",
       "      <td>0.248913</td>\n",
       "      <td>-1.282823</td>\n",
       "    </tr>\n",
       "    <tr>\n",
       "      <th>2020-05-15</th>\n",
       "      <td>2.610032</td>\n",
       "      <td>-0.454421</td>\n",
       "      <td>-0.150090</td>\n",
       "      <td>2.469841</td>\n",
       "    </tr>\n",
       "  </tbody>\n",
       "</table>\n",
       "</div>"
      ],
      "text/plain": [
       "                   A         B         C         D\n",
       "2020-05-11 -0.579677 -0.866685 -0.688581  0.322127\n",
       "2020-05-12  0.461882  1.087116  0.125865 -0.988006\n",
       "2020-05-13 -1.492901  0.519476  0.119438 -0.005100\n",
       "2020-05-14  2.488324 -0.715106  0.248913 -1.282823\n",
       "2020-05-15  2.610032 -0.454421 -0.150090  2.469841"
      ]
     },
     "execution_count": 25,
     "metadata": {},
     "output_type": "execute_result"
    }
   ],
   "source": [
    "df.head()"
   ]
  },
  {
   "cell_type": "code",
   "execution_count": 26,
   "metadata": {},
   "outputs": [
    {
     "data": {
      "text/html": [
       "<div>\n",
       "<style scoped>\n",
       "    .dataframe tbody tr th:only-of-type {\n",
       "        vertical-align: middle;\n",
       "    }\n",
       "\n",
       "    .dataframe tbody tr th {\n",
       "        vertical-align: top;\n",
       "    }\n",
       "\n",
       "    .dataframe thead th {\n",
       "        text-align: right;\n",
       "    }\n",
       "</style>\n",
       "<table border=\"1\" class=\"dataframe\">\n",
       "  <thead>\n",
       "    <tr style=\"text-align: right;\">\n",
       "      <th></th>\n",
       "      <th>A</th>\n",
       "      <th>B</th>\n",
       "      <th>C</th>\n",
       "      <th>D</th>\n",
       "    </tr>\n",
       "  </thead>\n",
       "  <tbody>\n",
       "    <tr>\n",
       "      <th>2020-05-14</th>\n",
       "      <td>2.488324</td>\n",
       "      <td>-0.715106</td>\n",
       "      <td>0.248913</td>\n",
       "      <td>-1.282823</td>\n",
       "    </tr>\n",
       "    <tr>\n",
       "      <th>2020-05-15</th>\n",
       "      <td>2.610032</td>\n",
       "      <td>-0.454421</td>\n",
       "      <td>-0.150090</td>\n",
       "      <td>2.469841</td>\n",
       "    </tr>\n",
       "    <tr>\n",
       "      <th>2020-05-16</th>\n",
       "      <td>1.587543</td>\n",
       "      <td>0.271019</td>\n",
       "      <td>0.357380</td>\n",
       "      <td>0.823892</td>\n",
       "    </tr>\n",
       "  </tbody>\n",
       "</table>\n",
       "</div>"
      ],
      "text/plain": [
       "                   A         B         C         D\n",
       "2020-05-14  2.488324 -0.715106  0.248913 -1.282823\n",
       "2020-05-15  2.610032 -0.454421 -0.150090  2.469841\n",
       "2020-05-16  1.587543  0.271019  0.357380  0.823892"
      ]
     },
     "execution_count": 26,
     "metadata": {},
     "output_type": "execute_result"
    }
   ],
   "source": [
    "df.tail(3)"
   ]
  },
  {
   "cell_type": "code",
   "execution_count": 27,
   "metadata": {},
   "outputs": [
    {
     "data": {
      "text/plain": [
       "DatetimeIndex(['2020-05-11', '2020-05-12', '2020-05-13', '2020-05-14',\n",
       "               '2020-05-15', '2020-05-16'],\n",
       "              dtype='datetime64[ns]', freq='D')"
      ]
     },
     "execution_count": 27,
     "metadata": {},
     "output_type": "execute_result"
    }
   ],
   "source": [
    "df.index"
   ]
  },
  {
   "cell_type": "code",
   "execution_count": 28,
   "metadata": {},
   "outputs": [
    {
     "data": {
      "text/plain": [
       "Index(['A', 'B', 'C', 'D'], dtype='object')"
      ]
     },
     "execution_count": 28,
     "metadata": {},
     "output_type": "execute_result"
    }
   ],
   "source": [
    "df.columns"
   ]
  },
  {
   "cell_type": "code",
   "execution_count": 29,
   "metadata": {},
   "outputs": [
    {
     "data": {
      "text/plain": [
       "array([[-0.57967692, -0.86668522, -0.68858071,  0.32212736],\n",
       "       [ 0.46188194,  1.08711644,  0.12586547, -0.98800583],\n",
       "       [-1.49290141,  0.51947573,  0.11943777, -0.00510041],\n",
       "       [ 2.48832431, -0.71510573,  0.24891294, -1.28282296],\n",
       "       [ 2.61003201, -0.45442082, -0.1500902 ,  2.46984088],\n",
       "       [ 1.58754329,  0.27101947,  0.35737974,  0.82389181]])"
      ]
     },
     "execution_count": 29,
     "metadata": {},
     "output_type": "execute_result"
    }
   ],
   "source": [
    "df.to_numpy()"
   ]
  },
  {
   "cell_type": "code",
   "execution_count": 30,
   "metadata": {},
   "outputs": [
    {
     "data": {
      "text/plain": [
       "array([[1, Timestamp('2020-05-11 00:00:00'), 1, 'test', 'foo'],\n",
       "       [1, Timestamp('2020-05-11 00:00:00'), 1, 'train', 'foo'],\n",
       "       [1, Timestamp('2020-05-11 00:00:00'), 1, 'test', 'foo'],\n",
       "       [1, Timestamp('2020-05-11 00:00:00'), 1, 'train', 'foo']],\n",
       "      dtype=object)"
      ]
     },
     "execution_count": 30,
     "metadata": {},
     "output_type": "execute_result"
    }
   ],
   "source": [
    "df2.to_numpy() ##expensive since numpy array must contain same data types"
   ]
  },
  {
   "cell_type": "code",
   "execution_count": 56,
   "metadata": {},
   "outputs": [
    {
     "data": {
      "text/html": [
       "<div>\n",
       "<style scoped>\n",
       "    .dataframe tbody tr th:only-of-type {\n",
       "        vertical-align: middle;\n",
       "    }\n",
       "\n",
       "    .dataframe tbody tr th {\n",
       "        vertical-align: top;\n",
       "    }\n",
       "\n",
       "    .dataframe thead th {\n",
       "        text-align: right;\n",
       "    }\n",
       "</style>\n",
       "<table border=\"1\" class=\"dataframe\">\n",
       "  <thead>\n",
       "    <tr style=\"text-align: right;\">\n",
       "      <th></th>\n",
       "      <th>A</th>\n",
       "      <th>B</th>\n",
       "      <th>C</th>\n",
       "      <th>D</th>\n",
       "      <th>1</th>\n",
       "    </tr>\n",
       "  </thead>\n",
       "  <tbody>\n",
       "    <tr>\n",
       "      <th>count</th>\n",
       "      <td>6.000000</td>\n",
       "      <td>6.000000</td>\n",
       "      <td>6.000000</td>\n",
       "      <td>6.000000</td>\n",
       "      <td>6.000000e+00</td>\n",
       "    </tr>\n",
       "    <tr>\n",
       "      <th>mean</th>\n",
       "      <td>0.845867</td>\n",
       "      <td>-0.026433</td>\n",
       "      <td>0.002154</td>\n",
       "      <td>0.223322</td>\n",
       "      <td>1.000000e-01</td>\n",
       "    </tr>\n",
       "    <tr>\n",
       "      <th>std</th>\n",
       "      <td>1.673887</td>\n",
       "      <td>0.773299</td>\n",
       "      <td>0.378531</td>\n",
       "      <td>1.356854</td>\n",
       "      <td>1.520235e-17</td>\n",
       "    </tr>\n",
       "    <tr>\n",
       "      <th>min</th>\n",
       "      <td>-1.492901</td>\n",
       "      <td>-0.866685</td>\n",
       "      <td>-0.688581</td>\n",
       "      <td>-1.282823</td>\n",
       "      <td>1.000000e-01</td>\n",
       "    </tr>\n",
       "    <tr>\n",
       "      <th>25%</th>\n",
       "      <td>-0.319287</td>\n",
       "      <td>-0.649935</td>\n",
       "      <td>-0.082708</td>\n",
       "      <td>-0.742279</td>\n",
       "      <td>1.000000e-01</td>\n",
       "    </tr>\n",
       "    <tr>\n",
       "      <th>50%</th>\n",
       "      <td>1.024713</td>\n",
       "      <td>-0.091701</td>\n",
       "      <td>0.122652</td>\n",
       "      <td>0.158513</td>\n",
       "      <td>1.000000e-01</td>\n",
       "    </tr>\n",
       "    <tr>\n",
       "      <th>75%</th>\n",
       "      <td>2.263129</td>\n",
       "      <td>0.457362</td>\n",
       "      <td>0.218151</td>\n",
       "      <td>0.698451</td>\n",
       "      <td>1.000000e-01</td>\n",
       "    </tr>\n",
       "    <tr>\n",
       "      <th>max</th>\n",
       "      <td>2.610032</td>\n",
       "      <td>1.087116</td>\n",
       "      <td>0.357380</td>\n",
       "      <td>2.469841</td>\n",
       "      <td>1.000000e-01</td>\n",
       "    </tr>\n",
       "  </tbody>\n",
       "</table>\n",
       "</div>"
      ],
      "text/plain": [
       "              A         B         C         D             1\n",
       "count  6.000000  6.000000  6.000000  6.000000  6.000000e+00\n",
       "mean   0.845867 -0.026433  0.002154  0.223322  1.000000e-01\n",
       "std    1.673887  0.773299  0.378531  1.356854  1.520235e-17\n",
       "min   -1.492901 -0.866685 -0.688581 -1.282823  1.000000e-01\n",
       "25%   -0.319287 -0.649935 -0.082708 -0.742279  1.000000e-01\n",
       "50%    1.024713 -0.091701  0.122652  0.158513  1.000000e-01\n",
       "75%    2.263129  0.457362  0.218151  0.698451  1.000000e-01\n",
       "max    2.610032  1.087116  0.357380  2.469841  1.000000e-01"
      ]
     },
     "execution_count": 56,
     "metadata": {},
     "output_type": "execute_result"
    }
   ],
   "source": [
    "df.describe()"
   ]
  },
  {
   "cell_type": "code",
   "execution_count": 60,
   "metadata": {},
   "outputs": [
    {
     "data": {
      "text/html": [
       "<div>\n",
       "<style scoped>\n",
       "    .dataframe tbody tr th:only-of-type {\n",
       "        vertical-align: middle;\n",
       "    }\n",
       "\n",
       "    .dataframe tbody tr th {\n",
       "        vertical-align: top;\n",
       "    }\n",
       "\n",
       "    .dataframe thead th {\n",
       "        text-align: right;\n",
       "    }\n",
       "</style>\n",
       "<table border=\"1\" class=\"dataframe\">\n",
       "  <thead>\n",
       "    <tr style=\"text-align: right;\">\n",
       "      <th></th>\n",
       "      <th>2020-05-11</th>\n",
       "      <th>2020-05-12</th>\n",
       "      <th>2020-05-13</th>\n",
       "      <th>2020-05-14</th>\n",
       "      <th>2020-05-15</th>\n",
       "      <th>2020-05-16</th>\n",
       "    </tr>\n",
       "  </thead>\n",
       "  <tbody>\n",
       "    <tr>\n",
       "      <th>A</th>\n",
       "      <td>-0.579677</td>\n",
       "      <td>0.461882</td>\n",
       "      <td>-1.492901</td>\n",
       "      <td>2.488324</td>\n",
       "      <td>2.610032</td>\n",
       "      <td>1.587543</td>\n",
       "    </tr>\n",
       "    <tr>\n",
       "      <th>B</th>\n",
       "      <td>-0.866685</td>\n",
       "      <td>1.087116</td>\n",
       "      <td>0.519476</td>\n",
       "      <td>-0.715106</td>\n",
       "      <td>-0.454421</td>\n",
       "      <td>0.271019</td>\n",
       "    </tr>\n",
       "    <tr>\n",
       "      <th>C</th>\n",
       "      <td>-0.688581</td>\n",
       "      <td>0.125865</td>\n",
       "      <td>0.119438</td>\n",
       "      <td>0.248913</td>\n",
       "      <td>-0.150090</td>\n",
       "      <td>0.357380</td>\n",
       "    </tr>\n",
       "    <tr>\n",
       "      <th>D</th>\n",
       "      <td>0.322127</td>\n",
       "      <td>-0.988006</td>\n",
       "      <td>-0.005100</td>\n",
       "      <td>-1.282823</td>\n",
       "      <td>2.469841</td>\n",
       "      <td>0.823892</td>\n",
       "    </tr>\n",
       "  </tbody>\n",
       "</table>\n",
       "</div>"
      ],
      "text/plain": [
       "   2020-05-11  2020-05-12  2020-05-13  2020-05-14  2020-05-15  2020-05-16\n",
       "A   -0.579677    0.461882   -1.492901    2.488324    2.610032    1.587543\n",
       "B   -0.866685    1.087116    0.519476   -0.715106   -0.454421    0.271019\n",
       "C   -0.688581    0.125865    0.119438    0.248913   -0.150090    0.357380\n",
       "D    0.322127   -0.988006   -0.005100   -1.282823    2.469841    0.823892"
      ]
     },
     "execution_count": 60,
     "metadata": {},
     "output_type": "execute_result"
    }
   ],
   "source": [
    "df.drop(columns=[\"@\",1], inplace=True)\n",
    "df.T #transpose\n"
   ]
  },
  {
   "cell_type": "code",
   "execution_count": 61,
   "metadata": {},
   "outputs": [
    {
     "data": {
      "text/html": [
       "<div>\n",
       "<style scoped>\n",
       "    .dataframe tbody tr th:only-of-type {\n",
       "        vertical-align: middle;\n",
       "    }\n",
       "\n",
       "    .dataframe tbody tr th {\n",
       "        vertical-align: top;\n",
       "    }\n",
       "\n",
       "    .dataframe thead th {\n",
       "        text-align: right;\n",
       "    }\n",
       "</style>\n",
       "<table border=\"1\" class=\"dataframe\">\n",
       "  <thead>\n",
       "    <tr style=\"text-align: right;\">\n",
       "      <th></th>\n",
       "      <th>D</th>\n",
       "      <th>C</th>\n",
       "      <th>B</th>\n",
       "      <th>A</th>\n",
       "    </tr>\n",
       "  </thead>\n",
       "  <tbody>\n",
       "    <tr>\n",
       "      <th>2020-05-11</th>\n",
       "      <td>0.322127</td>\n",
       "      <td>-0.688581</td>\n",
       "      <td>-0.866685</td>\n",
       "      <td>-0.579677</td>\n",
       "    </tr>\n",
       "    <tr>\n",
       "      <th>2020-05-12</th>\n",
       "      <td>-0.988006</td>\n",
       "      <td>0.125865</td>\n",
       "      <td>1.087116</td>\n",
       "      <td>0.461882</td>\n",
       "    </tr>\n",
       "    <tr>\n",
       "      <th>2020-05-13</th>\n",
       "      <td>-0.005100</td>\n",
       "      <td>0.119438</td>\n",
       "      <td>0.519476</td>\n",
       "      <td>-1.492901</td>\n",
       "    </tr>\n",
       "    <tr>\n",
       "      <th>2020-05-14</th>\n",
       "      <td>-1.282823</td>\n",
       "      <td>0.248913</td>\n",
       "      <td>-0.715106</td>\n",
       "      <td>2.488324</td>\n",
       "    </tr>\n",
       "    <tr>\n",
       "      <th>2020-05-15</th>\n",
       "      <td>2.469841</td>\n",
       "      <td>-0.150090</td>\n",
       "      <td>-0.454421</td>\n",
       "      <td>2.610032</td>\n",
       "    </tr>\n",
       "    <tr>\n",
       "      <th>2020-05-16</th>\n",
       "      <td>0.823892</td>\n",
       "      <td>0.357380</td>\n",
       "      <td>0.271019</td>\n",
       "      <td>1.587543</td>\n",
       "    </tr>\n",
       "  </tbody>\n",
       "</table>\n",
       "</div>"
      ],
      "text/plain": [
       "                   D         C         B         A\n",
       "2020-05-11  0.322127 -0.688581 -0.866685 -0.579677\n",
       "2020-05-12 -0.988006  0.125865  1.087116  0.461882\n",
       "2020-05-13 -0.005100  0.119438  0.519476 -1.492901\n",
       "2020-05-14 -1.282823  0.248913 -0.715106  2.488324\n",
       "2020-05-15  2.469841 -0.150090 -0.454421  2.610032\n",
       "2020-05-16  0.823892  0.357380  0.271019  1.587543"
      ]
     },
     "execution_count": 61,
     "metadata": {},
     "output_type": "execute_result"
    }
   ],
   "source": [
    "df.sort_index(axis=1,ascending=False) ##axis=0, sort index\n",
    "##axis=1 sort columns\n",
    "##ascending true -> small to large\n",
    "##ascending false -> large to small by ascii"
   ]
  },
  {
   "cell_type": "code",
   "execution_count": 62,
   "metadata": {
    "scrolled": true
   },
   "outputs": [
    {
     "data": {
      "text/html": [
       "<div>\n",
       "<style scoped>\n",
       "    .dataframe tbody tr th:only-of-type {\n",
       "        vertical-align: middle;\n",
       "    }\n",
       "\n",
       "    .dataframe tbody tr th {\n",
       "        vertical-align: top;\n",
       "    }\n",
       "\n",
       "    .dataframe thead th {\n",
       "        text-align: right;\n",
       "    }\n",
       "</style>\n",
       "<table border=\"1\" class=\"dataframe\">\n",
       "  <thead>\n",
       "    <tr style=\"text-align: right;\">\n",
       "      <th></th>\n",
       "      <th>A</th>\n",
       "      <th>B</th>\n",
       "      <th>C</th>\n",
       "      <th>D</th>\n",
       "    </tr>\n",
       "  </thead>\n",
       "  <tbody>\n",
       "    <tr>\n",
       "      <th>2020-05-11</th>\n",
       "      <td>-0.579677</td>\n",
       "      <td>-0.866685</td>\n",
       "      <td>-0.688581</td>\n",
       "      <td>0.322127</td>\n",
       "    </tr>\n",
       "    <tr>\n",
       "      <th>2020-05-12</th>\n",
       "      <td>0.461882</td>\n",
       "      <td>1.087116</td>\n",
       "      <td>0.125865</td>\n",
       "      <td>-0.988006</td>\n",
       "    </tr>\n",
       "    <tr>\n",
       "      <th>2020-05-13</th>\n",
       "      <td>-1.492901</td>\n",
       "      <td>0.519476</td>\n",
       "      <td>0.119438</td>\n",
       "      <td>-0.005100</td>\n",
       "    </tr>\n",
       "    <tr>\n",
       "      <th>2020-05-14</th>\n",
       "      <td>2.488324</td>\n",
       "      <td>-0.715106</td>\n",
       "      <td>0.248913</td>\n",
       "      <td>-1.282823</td>\n",
       "    </tr>\n",
       "    <tr>\n",
       "      <th>2020-05-15</th>\n",
       "      <td>2.610032</td>\n",
       "      <td>-0.454421</td>\n",
       "      <td>-0.150090</td>\n",
       "      <td>2.469841</td>\n",
       "    </tr>\n",
       "    <tr>\n",
       "      <th>2020-05-16</th>\n",
       "      <td>1.587543</td>\n",
       "      <td>0.271019</td>\n",
       "      <td>0.357380</td>\n",
       "      <td>0.823892</td>\n",
       "    </tr>\n",
       "  </tbody>\n",
       "</table>\n",
       "</div>"
      ],
      "text/plain": [
       "                   A         B         C         D\n",
       "2020-05-11 -0.579677 -0.866685 -0.688581  0.322127\n",
       "2020-05-12  0.461882  1.087116  0.125865 -0.988006\n",
       "2020-05-13 -1.492901  0.519476  0.119438 -0.005100\n",
       "2020-05-14  2.488324 -0.715106  0.248913 -1.282823\n",
       "2020-05-15  2.610032 -0.454421 -0.150090  2.469841\n",
       "2020-05-16  1.587543  0.271019  0.357380  0.823892"
      ]
     },
     "execution_count": 62,
     "metadata": {},
     "output_type": "execute_result"
    }
   ],
   "source": [
    "df.sort_index(axis=1,ascending=True)"
   ]
  },
  {
   "cell_type": "code",
   "execution_count": 68,
   "metadata": {},
   "outputs": [
    {
     "data": {
      "text/html": [
       "<div>\n",
       "<style scoped>\n",
       "    .dataframe tbody tr th:only-of-type {\n",
       "        vertical-align: middle;\n",
       "    }\n",
       "\n",
       "    .dataframe tbody tr th {\n",
       "        vertical-align: top;\n",
       "    }\n",
       "\n",
       "    .dataframe thead th {\n",
       "        text-align: right;\n",
       "    }\n",
       "</style>\n",
       "<table border=\"1\" class=\"dataframe\">\n",
       "  <thead>\n",
       "    <tr style=\"text-align: right;\">\n",
       "      <th></th>\n",
       "      <th>A</th>\n",
       "      <th>B</th>\n",
       "      <th>C</th>\n",
       "      <th>D</th>\n",
       "    </tr>\n",
       "  </thead>\n",
       "  <tbody>\n",
       "    <tr>\n",
       "      <th>2020-05-13</th>\n",
       "      <td>-1.492901</td>\n",
       "      <td>0.519476</td>\n",
       "      <td>0.119438</td>\n",
       "      <td>-0.005100</td>\n",
       "    </tr>\n",
       "    <tr>\n",
       "      <th>2020-05-11</th>\n",
       "      <td>-0.579677</td>\n",
       "      <td>-0.866685</td>\n",
       "      <td>-0.688581</td>\n",
       "      <td>0.322127</td>\n",
       "    </tr>\n",
       "    <tr>\n",
       "      <th>2020-05-12</th>\n",
       "      <td>0.461882</td>\n",
       "      <td>1.087116</td>\n",
       "      <td>0.125865</td>\n",
       "      <td>-0.988006</td>\n",
       "    </tr>\n",
       "    <tr>\n",
       "      <th>2020-05-16</th>\n",
       "      <td>1.587543</td>\n",
       "      <td>0.271019</td>\n",
       "      <td>0.357380</td>\n",
       "      <td>0.823892</td>\n",
       "    </tr>\n",
       "    <tr>\n",
       "      <th>2020-05-14</th>\n",
       "      <td>2.488324</td>\n",
       "      <td>-0.715106</td>\n",
       "      <td>0.248913</td>\n",
       "      <td>-1.282823</td>\n",
       "    </tr>\n",
       "    <tr>\n",
       "      <th>2020-05-15</th>\n",
       "      <td>2.610032</td>\n",
       "      <td>-0.454421</td>\n",
       "      <td>-0.150090</td>\n",
       "      <td>2.469841</td>\n",
       "    </tr>\n",
       "  </tbody>\n",
       "</table>\n",
       "</div>"
      ],
      "text/plain": [
       "                   A         B         C         D\n",
       "2020-05-13 -1.492901  0.519476  0.119438 -0.005100\n",
       "2020-05-11 -0.579677 -0.866685 -0.688581  0.322127\n",
       "2020-05-12  0.461882  1.087116  0.125865 -0.988006\n",
       "2020-05-16  1.587543  0.271019  0.357380  0.823892\n",
       "2020-05-14  2.488324 -0.715106  0.248913 -1.282823\n",
       "2020-05-15  2.610032 -0.454421 -0.150090  2.469841"
      ]
     },
     "execution_count": 68,
     "metadata": {},
     "output_type": "execute_result"
    }
   ],
   "source": [
    "df.sort_values(by=\"A\") #sort by a specific column"
   ]
  },
  {
   "cell_type": "code",
   "execution_count": 69,
   "metadata": {},
   "outputs": [
    {
     "data": {
      "text/html": [
       "<div>\n",
       "<style scoped>\n",
       "    .dataframe tbody tr th:only-of-type {\n",
       "        vertical-align: middle;\n",
       "    }\n",
       "\n",
       "    .dataframe tbody tr th {\n",
       "        vertical-align: top;\n",
       "    }\n",
       "\n",
       "    .dataframe thead th {\n",
       "        text-align: right;\n",
       "    }\n",
       "</style>\n",
       "<table border=\"1\" class=\"dataframe\">\n",
       "  <thead>\n",
       "    <tr style=\"text-align: right;\">\n",
       "      <th></th>\n",
       "      <th>A</th>\n",
       "      <th>B</th>\n",
       "      <th>C</th>\n",
       "      <th>D</th>\n",
       "    </tr>\n",
       "  </thead>\n",
       "  <tbody>\n",
       "    <tr>\n",
       "      <th>2020-05-11</th>\n",
       "      <td>-0.579677</td>\n",
       "      <td>-0.866685</td>\n",
       "      <td>-0.688581</td>\n",
       "      <td>0.322127</td>\n",
       "    </tr>\n",
       "    <tr>\n",
       "      <th>2020-05-12</th>\n",
       "      <td>0.461882</td>\n",
       "      <td>1.087116</td>\n",
       "      <td>0.125865</td>\n",
       "      <td>-0.988006</td>\n",
       "    </tr>\n",
       "    <tr>\n",
       "      <th>2020-05-13</th>\n",
       "      <td>-1.492901</td>\n",
       "      <td>0.519476</td>\n",
       "      <td>0.119438</td>\n",
       "      <td>-0.005100</td>\n",
       "    </tr>\n",
       "  </tbody>\n",
       "</table>\n",
       "</div>"
      ],
      "text/plain": [
       "                   A         B         C         D\n",
       "2020-05-11 -0.579677 -0.866685 -0.688581  0.322127\n",
       "2020-05-12  0.461882  1.087116  0.125865 -0.988006\n",
       "2020-05-13 -1.492901  0.519476  0.119438 -0.005100"
      ]
     },
     "execution_count": 69,
     "metadata": {},
     "output_type": "execute_result"
    }
   ],
   "source": [
    "df[0:3] ##slices the rows"
   ]
  },
  {
   "cell_type": "code",
   "execution_count": 109,
   "metadata": {},
   "outputs": [
    {
     "data": {
      "text/html": [
       "<div>\n",
       "<style scoped>\n",
       "    .dataframe tbody tr th:only-of-type {\n",
       "        vertical-align: middle;\n",
       "    }\n",
       "\n",
       "    .dataframe tbody tr th {\n",
       "        vertical-align: top;\n",
       "    }\n",
       "\n",
       "    .dataframe thead th {\n",
       "        text-align: right;\n",
       "    }\n",
       "</style>\n",
       "<table border=\"1\" class=\"dataframe\">\n",
       "  <thead>\n",
       "    <tr style=\"text-align: right;\">\n",
       "      <th></th>\n",
       "      <th>A</th>\n",
       "      <th>B</th>\n",
       "      <th>C</th>\n",
       "      <th>D</th>\n",
       "    </tr>\n",
       "  </thead>\n",
       "  <tbody>\n",
       "    <tr>\n",
       "      <th>2020-05-11</th>\n",
       "      <td>-0.579677</td>\n",
       "      <td>-0.866685</td>\n",
       "      <td>-0.688581</td>\n",
       "      <td>0.322127</td>\n",
       "    </tr>\n",
       "    <tr>\n",
       "      <th>2020-05-12</th>\n",
       "      <td>0.461882</td>\n",
       "      <td>1.087116</td>\n",
       "      <td>0.125865</td>\n",
       "      <td>-0.988006</td>\n",
       "    </tr>\n",
       "    <tr>\n",
       "      <th>2020-05-13</th>\n",
       "      <td>-1.492901</td>\n",
       "      <td>0.519476</td>\n",
       "      <td>0.119438</td>\n",
       "      <td>-0.005100</td>\n",
       "    </tr>\n",
       "    <tr>\n",
       "      <th>2020-05-14</th>\n",
       "      <td>2.488324</td>\n",
       "      <td>-0.715106</td>\n",
       "      <td>0.248913</td>\n",
       "      <td>-1.282823</td>\n",
       "    </tr>\n",
       "  </tbody>\n",
       "</table>\n",
       "</div>"
      ],
      "text/plain": [
       "                   A         B         C         D\n",
       "2020-05-11 -0.579677 -0.866685 -0.688581  0.322127\n",
       "2020-05-12  0.461882  1.087116  0.125865 -0.988006\n",
       "2020-05-13 -1.492901  0.519476  0.119438 -0.005100\n",
       "2020-05-14  2.488324 -0.715106  0.248913 -1.282823"
      ]
     },
     "execution_count": 109,
     "metadata": {},
     "output_type": "execute_result"
    }
   ],
   "source": [
    "df[\"20200511\":\"20200514\"] ##inlusive"
   ]
  },
  {
   "cell_type": "code",
   "execution_count": 110,
   "metadata": {},
   "outputs": [
    {
     "data": {
      "text/plain": [
       "(A   -0.579677\n",
       " B   -0.866685\n",
       " C   -0.688581\n",
       " D    0.322127\n",
       " Name: 2020-05-11 00:00:00, dtype: float64,\n",
       " A    2.610032\n",
       " B   -0.454421\n",
       " C   -0.150090\n",
       " D    2.469841\n",
       " Name: 2020-05-15 00:00:00, dtype: float64)"
      ]
     },
     "execution_count": 110,
     "metadata": {},
     "output_type": "execute_result"
    }
   ],
   "source": [
    "##selection by label (index name)\n",
    "df.loc[dates[0]], df.loc[\"20200515\"]"
   ]
  },
  {
   "cell_type": "code",
   "execution_count": 111,
   "metadata": {},
   "outputs": [
    {
     "name": "stdout",
     "output_type": "stream",
     "text": [
      "                   A         B\n",
      "2020-05-11 -0.579677 -0.866685\n",
      "2020-05-12  0.461882  1.087116\n",
      "2020-05-13 -1.492901  0.519476\n",
      "2020-05-14  2.488324 -0.715106\n",
      "2020-05-15  2.610032 -0.454421\n",
      "2020-05-16  1.587543  0.271019\n",
      "A   -0.579677\n",
      "B   -0.866685\n",
      "C   -0.688581\n",
      "D    0.322127\n",
      "Name: 2020-05-11 00:00:00, dtype: float64\n",
      "                   D         C\n",
      "2020-05-11  0.322127 -0.688581\n",
      "2020-05-12 -0.988006  0.125865\n",
      "2020-05-13 -0.005100  0.119438\n"
     ]
    }
   ],
   "source": [
    "##selecting on a muli-axis by label\n",
    "print(df.loc[:, [\"A\", \"B\"]]) ##[row, columns]\n",
    "print(df.loc[\"20200511\", :])\n",
    "print(df.loc[\"20200511\":\"20200513\", [\"D\",\"C\"]])\n",
    "# temp = df.reset_index()\n",
    "# temp.loc[[0,2], [\"A\", \"B\"]]"
   ]
  },
  {
   "cell_type": "code",
   "execution_count": 112,
   "metadata": {},
   "outputs": [
    {
     "data": {
      "text/plain": [
       "-0.5796769225408385"
      ]
     },
     "execution_count": 112,
     "metadata": {},
     "output_type": "execute_result"
    }
   ],
   "source": [
    "##getting scalar value\n",
    "df.at[dates[0], \"A\"]"
   ]
  },
  {
   "cell_type": "code",
   "execution_count": 113,
   "metadata": {},
   "outputs": [
    {
     "data": {
      "text/plain": [
       "A    2.488324\n",
       "B   -0.715106\n",
       "C    0.248913\n",
       "D   -1.282823\n",
       "Name: 2020-05-14 00:00:00, dtype: float64"
      ]
     },
     "execution_count": 113,
     "metadata": {},
     "output_type": "execute_result"
    }
   ],
   "source": [
    "\n",
    "df.iloc[3]"
   ]
  },
  {
   "cell_type": "code",
   "execution_count": 115,
   "metadata": {},
   "outputs": [
    {
     "data": {
      "text/html": [
       "<div>\n",
       "<style scoped>\n",
       "    .dataframe tbody tr th:only-of-type {\n",
       "        vertical-align: middle;\n",
       "    }\n",
       "\n",
       "    .dataframe tbody tr th {\n",
       "        vertical-align: top;\n",
       "    }\n",
       "\n",
       "    .dataframe thead th {\n",
       "        text-align: right;\n",
       "    }\n",
       "</style>\n",
       "<table border=\"1\" class=\"dataframe\">\n",
       "  <thead>\n",
       "    <tr style=\"text-align: right;\">\n",
       "      <th></th>\n",
       "      <th>A</th>\n",
       "      <th>C</th>\n",
       "    </tr>\n",
       "  </thead>\n",
       "  <tbody>\n",
       "    <tr>\n",
       "      <th>2020-05-12</th>\n",
       "      <td>0.461882</td>\n",
       "      <td>0.125865</td>\n",
       "    </tr>\n",
       "    <tr>\n",
       "      <th>2020-05-15</th>\n",
       "      <td>2.610032</td>\n",
       "      <td>-0.150090</td>\n",
       "    </tr>\n",
       "  </tbody>\n",
       "</table>\n",
       "</div>"
      ],
      "text/plain": [
       "                   A         C\n",
       "2020-05-12  0.461882  0.125865\n",
       "2020-05-15  2.610032 -0.150090"
      ]
     },
     "execution_count": 115,
     "metadata": {},
     "output_type": "execute_result"
    }
   ],
   "source": [
    "##select via the position of the passed integers\n",
    "df.iloc[[1,4], [0,2]]"
   ]
  },
  {
   "cell_type": "code",
   "execution_count": 116,
   "metadata": {},
   "outputs": [
    {
     "data": {
      "text/html": [
       "<div>\n",
       "<style scoped>\n",
       "    .dataframe tbody tr th:only-of-type {\n",
       "        vertical-align: middle;\n",
       "    }\n",
       "\n",
       "    .dataframe tbody tr th {\n",
       "        vertical-align: top;\n",
       "    }\n",
       "\n",
       "    .dataframe thead th {\n",
       "        text-align: right;\n",
       "    }\n",
       "</style>\n",
       "<table border=\"1\" class=\"dataframe\">\n",
       "  <thead>\n",
       "    <tr style=\"text-align: right;\">\n",
       "      <th></th>\n",
       "      <th>A</th>\n",
       "      <th>B</th>\n",
       "      <th>C</th>\n",
       "      <th>D</th>\n",
       "    </tr>\n",
       "  </thead>\n",
       "  <tbody>\n",
       "    <tr>\n",
       "      <th>2020-05-12</th>\n",
       "      <td>0.461882</td>\n",
       "      <td>1.087116</td>\n",
       "      <td>0.125865</td>\n",
       "      <td>-0.988006</td>\n",
       "    </tr>\n",
       "    <tr>\n",
       "      <th>2020-05-13</th>\n",
       "      <td>-1.492901</td>\n",
       "      <td>0.519476</td>\n",
       "      <td>0.119438</td>\n",
       "      <td>-0.005100</td>\n",
       "    </tr>\n",
       "  </tbody>\n",
       "</table>\n",
       "</div>"
      ],
      "text/plain": [
       "                   A         B         C         D\n",
       "2020-05-12  0.461882  1.087116  0.125865 -0.988006\n",
       "2020-05-13 -1.492901  0.519476  0.119438 -0.005100"
      ]
     },
     "execution_count": 116,
     "metadata": {},
     "output_type": "execute_result"
    }
   ],
   "source": [
    "df.iloc[1:3,:]"
   ]
  },
  {
   "cell_type": "code",
   "execution_count": 117,
   "metadata": {},
   "outputs": [
    {
     "data": {
      "text/plain": [
       "1.087116441765232"
      ]
     },
     "execution_count": 117,
     "metadata": {},
     "output_type": "execute_result"
    }
   ],
   "source": [
    "## getting scalar by position\n",
    "df.iat[1,1]"
   ]
  },
  {
   "cell_type": "code",
   "execution_count": 122,
   "metadata": {},
   "outputs": [
    {
     "data": {
      "text/plain": [
       "pandas.core.series.Series"
      ]
     },
     "execution_count": 122,
     "metadata": {},
     "output_type": "execute_result"
    }
   ],
   "source": [
    "#this returns a series including boolean values\n",
    "df[\"A\"] > 1"
   ]
  },
  {
   "cell_type": "code",
   "execution_count": 123,
   "metadata": {},
   "outputs": [
    {
     "data": {
      "text/html": [
       "<div>\n",
       "<style scoped>\n",
       "    .dataframe tbody tr th:only-of-type {\n",
       "        vertical-align: middle;\n",
       "    }\n",
       "\n",
       "    .dataframe tbody tr th {\n",
       "        vertical-align: top;\n",
       "    }\n",
       "\n",
       "    .dataframe thead th {\n",
       "        text-align: right;\n",
       "    }\n",
       "</style>\n",
       "<table border=\"1\" class=\"dataframe\">\n",
       "  <thead>\n",
       "    <tr style=\"text-align: right;\">\n",
       "      <th></th>\n",
       "      <th>A</th>\n",
       "      <th>B</th>\n",
       "      <th>C</th>\n",
       "      <th>D</th>\n",
       "    </tr>\n",
       "  </thead>\n",
       "  <tbody>\n",
       "    <tr>\n",
       "      <th>2020-05-14</th>\n",
       "      <td>2.488324</td>\n",
       "      <td>-0.715106</td>\n",
       "      <td>0.248913</td>\n",
       "      <td>-1.282823</td>\n",
       "    </tr>\n",
       "    <tr>\n",
       "      <th>2020-05-15</th>\n",
       "      <td>2.610032</td>\n",
       "      <td>-0.454421</td>\n",
       "      <td>-0.150090</td>\n",
       "      <td>2.469841</td>\n",
       "    </tr>\n",
       "    <tr>\n",
       "      <th>2020-05-16</th>\n",
       "      <td>1.587543</td>\n",
       "      <td>0.271019</td>\n",
       "      <td>0.357380</td>\n",
       "      <td>0.823892</td>\n",
       "    </tr>\n",
       "  </tbody>\n",
       "</table>\n",
       "</div>"
      ],
      "text/plain": [
       "                   A         B         C         D\n",
       "2020-05-14  2.488324 -0.715106  0.248913 -1.282823\n",
       "2020-05-15  2.610032 -0.454421 -0.150090  2.469841\n",
       "2020-05-16  1.587543  0.271019  0.357380  0.823892"
      ]
     },
     "execution_count": 123,
     "metadata": {},
     "output_type": "execute_result"
    }
   ],
   "source": [
    "##select rows satisfying the condition\n",
    "df[df[\"A\"]>1] "
   ]
  },
  {
   "cell_type": "code",
   "execution_count": 130,
   "metadata": {},
   "outputs": [
    {
     "ename": "SyntaxError",
     "evalue": "invalid syntax (<ipython-input-130-cb4dd7b41966>, line 2)",
     "output_type": "error",
     "traceback": [
      "\u001b[1;36m  File \u001b[1;32m\"<ipython-input-130-cb4dd7b41966>\"\u001b[1;36m, line \u001b[1;32m2\u001b[0m\n\u001b[1;33m    df[>0,<1]\u001b[0m\n\u001b[1;37m       ^\u001b[0m\n\u001b[1;31mSyntaxError\u001b[0m\u001b[1;31m:\u001b[0m invalid syntax\n"
     ]
    }
   ],
   "source": [
    "##this returns a dataframe\n",
    "df>0"
   ]
  },
  {
   "cell_type": "code",
   "execution_count": 125,
   "metadata": {},
   "outputs": [
    {
     "data": {
      "text/html": [
       "<div>\n",
       "<style scoped>\n",
       "    .dataframe tbody tr th:only-of-type {\n",
       "        vertical-align: middle;\n",
       "    }\n",
       "\n",
       "    .dataframe tbody tr th {\n",
       "        vertical-align: top;\n",
       "    }\n",
       "\n",
       "    .dataframe thead th {\n",
       "        text-align: right;\n",
       "    }\n",
       "</style>\n",
       "<table border=\"1\" class=\"dataframe\">\n",
       "  <thead>\n",
       "    <tr style=\"text-align: right;\">\n",
       "      <th></th>\n",
       "      <th>A</th>\n",
       "      <th>B</th>\n",
       "      <th>C</th>\n",
       "      <th>D</th>\n",
       "    </tr>\n",
       "  </thead>\n",
       "  <tbody>\n",
       "    <tr>\n",
       "      <th>2020-05-11</th>\n",
       "      <td>NaN</td>\n",
       "      <td>NaN</td>\n",
       "      <td>NaN</td>\n",
       "      <td>0.322127</td>\n",
       "    </tr>\n",
       "    <tr>\n",
       "      <th>2020-05-12</th>\n",
       "      <td>0.461882</td>\n",
       "      <td>1.087116</td>\n",
       "      <td>0.125865</td>\n",
       "      <td>NaN</td>\n",
       "    </tr>\n",
       "    <tr>\n",
       "      <th>2020-05-13</th>\n",
       "      <td>NaN</td>\n",
       "      <td>0.519476</td>\n",
       "      <td>0.119438</td>\n",
       "      <td>NaN</td>\n",
       "    </tr>\n",
       "    <tr>\n",
       "      <th>2020-05-14</th>\n",
       "      <td>2.488324</td>\n",
       "      <td>NaN</td>\n",
       "      <td>0.248913</td>\n",
       "      <td>NaN</td>\n",
       "    </tr>\n",
       "    <tr>\n",
       "      <th>2020-05-15</th>\n",
       "      <td>2.610032</td>\n",
       "      <td>NaN</td>\n",
       "      <td>NaN</td>\n",
       "      <td>2.469841</td>\n",
       "    </tr>\n",
       "    <tr>\n",
       "      <th>2020-05-16</th>\n",
       "      <td>1.587543</td>\n",
       "      <td>0.271019</td>\n",
       "      <td>0.357380</td>\n",
       "      <td>0.823892</td>\n",
       "    </tr>\n",
       "  </tbody>\n",
       "</table>\n",
       "</div>"
      ],
      "text/plain": [
       "                   A         B         C         D\n",
       "2020-05-11       NaN       NaN       NaN  0.322127\n",
       "2020-05-12  0.461882  1.087116  0.125865       NaN\n",
       "2020-05-13       NaN  0.519476  0.119438       NaN\n",
       "2020-05-14  2.488324       NaN  0.248913       NaN\n",
       "2020-05-15  2.610032       NaN       NaN  2.469841\n",
       "2020-05-16  1.587543  0.271019  0.357380  0.823892"
      ]
     },
     "execution_count": 125,
     "metadata": {},
     "output_type": "execute_result"
    }
   ],
   "source": [
    "##the values satisfying the condition or NaN\n",
    "df[df>0] "
   ]
  },
  {
   "cell_type": "code",
   "execution_count": 131,
   "metadata": {},
   "outputs": [
    {
     "data": {
      "text/html": [
       "<div>\n",
       "<style scoped>\n",
       "    .dataframe tbody tr th:only-of-type {\n",
       "        vertical-align: middle;\n",
       "    }\n",
       "\n",
       "    .dataframe tbody tr th {\n",
       "        vertical-align: top;\n",
       "    }\n",
       "\n",
       "    .dataframe thead th {\n",
       "        text-align: right;\n",
       "    }\n",
       "</style>\n",
       "<table border=\"1\" class=\"dataframe\">\n",
       "  <thead>\n",
       "    <tr style=\"text-align: right;\">\n",
       "      <th></th>\n",
       "      <th>A</th>\n",
       "      <th>B</th>\n",
       "      <th>C</th>\n",
       "      <th>D</th>\n",
       "      <th>E</th>\n",
       "    </tr>\n",
       "  </thead>\n",
       "  <tbody>\n",
       "    <tr>\n",
       "      <th>2020-05-11</th>\n",
       "      <td>-0.579677</td>\n",
       "      <td>-0.866685</td>\n",
       "      <td>-0.688581</td>\n",
       "      <td>0.322127</td>\n",
       "      <td>one</td>\n",
       "    </tr>\n",
       "    <tr>\n",
       "      <th>2020-05-12</th>\n",
       "      <td>0.461882</td>\n",
       "      <td>1.087116</td>\n",
       "      <td>0.125865</td>\n",
       "      <td>-0.988006</td>\n",
       "      <td>one</td>\n",
       "    </tr>\n",
       "    <tr>\n",
       "      <th>2020-05-13</th>\n",
       "      <td>-1.492901</td>\n",
       "      <td>0.519476</td>\n",
       "      <td>0.119438</td>\n",
       "      <td>-0.005100</td>\n",
       "      <td>two</td>\n",
       "    </tr>\n",
       "    <tr>\n",
       "      <th>2020-05-14</th>\n",
       "      <td>2.488324</td>\n",
       "      <td>-0.715106</td>\n",
       "      <td>0.248913</td>\n",
       "      <td>-1.282823</td>\n",
       "      <td>three</td>\n",
       "    </tr>\n",
       "    <tr>\n",
       "      <th>2020-05-15</th>\n",
       "      <td>2.610032</td>\n",
       "      <td>-0.454421</td>\n",
       "      <td>-0.150090</td>\n",
       "      <td>2.469841</td>\n",
       "      <td>four</td>\n",
       "    </tr>\n",
       "    <tr>\n",
       "      <th>2020-05-16</th>\n",
       "      <td>1.587543</td>\n",
       "      <td>0.271019</td>\n",
       "      <td>0.357380</td>\n",
       "      <td>0.823892</td>\n",
       "      <td>three</td>\n",
       "    </tr>\n",
       "  </tbody>\n",
       "</table>\n",
       "</div>"
      ],
      "text/plain": [
       "                   A         B         C         D      E\n",
       "2020-05-11 -0.579677 -0.866685 -0.688581  0.322127    one\n",
       "2020-05-12  0.461882  1.087116  0.125865 -0.988006    one\n",
       "2020-05-13 -1.492901  0.519476  0.119438 -0.005100    two\n",
       "2020-05-14  2.488324 -0.715106  0.248913 -1.282823  three\n",
       "2020-05-15  2.610032 -0.454421 -0.150090  2.469841   four\n",
       "2020-05-16  1.587543  0.271019  0.357380  0.823892  three"
      ]
     },
     "execution_count": 131,
     "metadata": {},
     "output_type": "execute_result"
    }
   ],
   "source": [
    "df2 = df.copy()\n",
    "df2[\"E\"] = [\"one\", \"one\", \"two\", \"three\", \"four\", \"three\"]\n",
    "df2"
   ]
  },
  {
   "cell_type": "code",
   "execution_count": 135,
   "metadata": {},
   "outputs": [
    {
     "data": {
      "text/plain": [
       "2020-05-11     True\n",
       "2020-05-12     True\n",
       "2020-05-13    False\n",
       "2020-05-14     True\n",
       "2020-05-15    False\n",
       "2020-05-16     True\n",
       "Freq: D, Name: E, dtype: bool"
      ]
     },
     "execution_count": 135,
     "metadata": {},
     "output_type": "execute_result"
    }
   ],
   "source": [
    "##finding rows the values in the selected column match\n",
    "df2[\"E\"].isin([\"two\", \"four\"])"
   ]
  },
  {
   "cell_type": "code",
   "execution_count": 136,
   "metadata": {},
   "outputs": [
    {
     "data": {
      "text/plain": [
       "2020-05-11     True\n",
       "2020-05-12     True\n",
       "2020-05-13    False\n",
       "2020-05-14     True\n",
       "2020-05-15    False\n",
       "2020-05-16     True\n",
       "Freq: D, Name: E, dtype: bool"
      ]
     },
     "execution_count": 136,
     "metadata": {},
     "output_type": "execute_result"
    }
   ],
   "source": [
    "##tilde makes it inverse\n",
    "~df2[\"E\"].isin([\"two\",\"four\"])"
   ]
  },
  {
   "cell_type": "code",
   "execution_count": 140,
   "metadata": {},
   "outputs": [],
   "source": [
    "##setting\n",
    "\n",
    "##create a series with index defined\n",
    "s1 = pd.Series([1,2,3,4,5,6],index=pd.date_range(\"20200511\", periods=6))\n",
    "s1\n",
    "##add columns\n",
    "df[\"f\"] = s1"
   ]
  },
  {
   "cell_type": "code",
   "execution_count": 148,
   "metadata": {},
   "outputs": [
    {
     "data": {
      "text/html": [
       "<div>\n",
       "<style scoped>\n",
       "    .dataframe tbody tr th:only-of-type {\n",
       "        vertical-align: middle;\n",
       "    }\n",
       "\n",
       "    .dataframe tbody tr th {\n",
       "        vertical-align: top;\n",
       "    }\n",
       "\n",
       "    .dataframe thead th {\n",
       "        text-align: right;\n",
       "    }\n",
       "</style>\n",
       "<table border=\"1\" class=\"dataframe\">\n",
       "  <thead>\n",
       "    <tr style=\"text-align: right;\">\n",
       "      <th></th>\n",
       "      <th>A</th>\n",
       "      <th>B</th>\n",
       "      <th>C</th>\n",
       "      <th>D</th>\n",
       "      <th>f</th>\n",
       "      <th>(0, 0)</th>\n",
       "    </tr>\n",
       "  </thead>\n",
       "  <tbody>\n",
       "    <tr>\n",
       "      <th>2020-05-11</th>\n",
       "      <td>0.000000</td>\n",
       "      <td>-0.866685</td>\n",
       "      <td>-0.688581</td>\n",
       "      <td>-100.000000</td>\n",
       "      <td>1</td>\n",
       "      <td>-100</td>\n",
       "    </tr>\n",
       "    <tr>\n",
       "      <th>2020-05-12</th>\n",
       "      <td>0.461882</td>\n",
       "      <td>1.087116</td>\n",
       "      <td>0.125865</td>\n",
       "      <td>-0.988006</td>\n",
       "      <td>2</td>\n",
       "      <td>-100</td>\n",
       "    </tr>\n",
       "    <tr>\n",
       "      <th>2020-05-13</th>\n",
       "      <td>-1.492901</td>\n",
       "      <td>0.519476</td>\n",
       "      <td>0.119438</td>\n",
       "      <td>-0.005100</td>\n",
       "      <td>3</td>\n",
       "      <td>-100</td>\n",
       "    </tr>\n",
       "    <tr>\n",
       "      <th>2020-05-14</th>\n",
       "      <td>2.488324</td>\n",
       "      <td>-0.715106</td>\n",
       "      <td>0.248913</td>\n",
       "      <td>-1.282823</td>\n",
       "      <td>4</td>\n",
       "      <td>-100</td>\n",
       "    </tr>\n",
       "    <tr>\n",
       "      <th>2020-05-15</th>\n",
       "      <td>2.610032</td>\n",
       "      <td>-0.454421</td>\n",
       "      <td>-0.150090</td>\n",
       "      <td>2.469841</td>\n",
       "      <td>5</td>\n",
       "      <td>-100</td>\n",
       "    </tr>\n",
       "    <tr>\n",
       "      <th>2020-05-16</th>\n",
       "      <td>1.587543</td>\n",
       "      <td>0.271019</td>\n",
       "      <td>0.357380</td>\n",
       "      <td>0.823892</td>\n",
       "      <td>6</td>\n",
       "      <td>-100</td>\n",
       "    </tr>\n",
       "  </tbody>\n",
       "</table>\n",
       "</div>"
      ],
      "text/plain": [
       "                   A         B         C           D  f  (0, 0)\n",
       "2020-05-11  0.000000 -0.866685 -0.688581 -100.000000  1    -100\n",
       "2020-05-12  0.461882  1.087116  0.125865   -0.988006  2    -100\n",
       "2020-05-13 -1.492901  0.519476  0.119438   -0.005100  3    -100\n",
       "2020-05-14  2.488324 -0.715106  0.248913   -1.282823  4    -100\n",
       "2020-05-15  2.610032 -0.454421 -0.150090    2.469841  5    -100\n",
       "2020-05-16  1.587543  0.271019  0.357380    0.823892  6    -100"
      ]
     },
     "execution_count": 148,
     "metadata": {},
     "output_type": "execute_result"
    }
   ],
   "source": [
    "##set specific value = 0\n",
    "df.at[dates[0],\"A\"] = 0\n",
    "df.iloc[0,3]=-100\n",
    "df"
   ]
  },
  {
   "cell_type": "code",
   "execution_count": null,
   "metadata": {},
   "outputs": [],
   "source": []
  }
 ],
 "metadata": {
  "kernelspec": {
   "display_name": "Python 3",
   "language": "python",
   "name": "python3"
  },
  "language_info": {
   "codemirror_mode": {
    "name": "ipython",
    "version": 3
   },
   "file_extension": ".py",
   "mimetype": "text/x-python",
   "name": "python",
   "nbconvert_exporter": "python",
   "pygments_lexer": "ipython3",
   "version": "3.7.1"
  }
 },
 "nbformat": 4,
 "nbformat_minor": 4
}
