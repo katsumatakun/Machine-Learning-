{
 "cells": [
  {
   "cell_type": "code",
   "execution_count": 86,
   "metadata": {},
   "outputs": [],
   "source": [
    "import numpy as np"
   ]
  },
  {
   "cell_type": "code",
   "execution_count": 87,
   "metadata": {},
   "outputs": [
    {
     "data": {
      "text/plain": [
       "array([[[[ 0,  1,  2],\n",
       "         [ 3,  4,  5],\n",
       "         [ 6,  7,  8],\n",
       "         [ 9, 10, 11]],\n",
       "\n",
       "        [[12, 13, 14],\n",
       "         [15, 16, 17],\n",
       "         [18, 19, 20],\n",
       "         [21, 22, 23]]],\n",
       "\n",
       "\n",
       "       [[[24, 25, 26],\n",
       "         [27, 28, 29],\n",
       "         [30, 31, 32],\n",
       "         [33, 34, 35]],\n",
       "\n",
       "        [[36, 37, 38],\n",
       "         [39, 40, 41],\n",
       "         [42, 43, 44],\n",
       "         [45, 46, 47]]]])"
      ]
     },
     "execution_count": 87,
     "metadata": {},
     "output_type": "execute_result"
    }
   ],
   "source": [
    "a = np.arange(15).reshape(3,5)\n",
    "b = np.array([2,6])\n",
    "type(a)\n",
    "c = np.array([(1,2,4),(4,5,6)])\n",
    "np.zeros((3,4))\n",
    "np.ones((2,3,4), dtype=np.int64)\n",
    "np.arange(1,10,0.1)  ##0.1 step from 1 to 10\n",
    "np.linspace(1,10,90)##90 numbers from 1 to 90\n",
    "x = np.linspace(0, 2*np.pi, 100)\n",
    "f = np.sin(x)\n",
    "# print(f)\n",
    "np.arange(48).reshape(2,2,4,3)"
   ]
  },
  {
   "cell_type": "code",
   "execution_count": 88,
   "metadata": {},
   "outputs": [
    {
     "data": {
      "text/plain": [
       "array([[  0,   0,   0,   0],\n",
       "       [ 20,  30,  40,  50],\n",
       "       [ 40,  60,  80, 100],\n",
       "       [ 60,  90, 120, 150]])"
      ]
     },
     "execution_count": 88,
     "metadata": {},
     "output_type": "execute_result"
    }
   ],
   "source": [
    "a = np.array([20,30,40,50]).reshape(1,4)\n",
    "b = np.arange(4)\n",
    "c = a-b\n",
    "d = b ** 2\n",
    "10*np.sin(a)\n",
    "a<35\n",
    "np.dot(a,b)\n",
    "b = b.reshape(4,1)\n",
    "b@a"
   ]
  },
  {
   "cell_type": "code",
   "execution_count": 89,
   "metadata": {},
   "outputs": [],
   "source": [
    "rg = np.random.default_rng(1)\n",
    "a = np.ones((2,3), dtype=int)\n",
    "b = rg.random((2,3))\n",
    "a *=3\n",
    "b += a\n",
    "# a += b"
   ]
  },
  {
   "cell_type": "code",
   "execution_count": 90,
   "metadata": {},
   "outputs": [
    {
     "name": "stdout",
     "output_type": "stream",
     "text": [
      "[ 2.71828183 13.07623325 62.90292428]\n"
     ]
    },
    {
     "data": {
      "text/plain": [
       "(0.5403023058681398+0.8414709848078965j)"
      ]
     },
     "execution_count": 90,
     "metadata": {},
     "output_type": "execute_result"
    }
   ],
   "source": [
    "a = np.ones(3, dtype=np.int32)\n",
    "b = np.linspace(0, np.pi, 3)\n",
    "# a +=b\n",
    "c = a+b\n",
    "c.dtype.name\n",
    "d = np.exp(c*1j)\n",
    "c = np.exp(c)\n",
    "print(c)\n",
    "np.exp(1j)"
   ]
  },
  {
   "cell_type": "code",
   "execution_count": 91,
   "metadata": {},
   "outputs": [
    {
     "name": "stdout",
     "output_type": "stream",
     "text": [
      "[[0.82770259 0.40919914 0.54959369]\n",
      " [0.02755911 0.75351311 0.53814331]]\n",
      "[[0.82770259 0.40919914 0.54959369]\n",
      " [0.02755911 0.75351311 0.53814331]]\n"
     ]
    },
    {
     "data": {
      "text/plain": [
       "0.06752584219756565"
      ]
     },
     "execution_count": 91,
     "metadata": {},
     "output_type": "execute_result"
    }
   ],
   "source": [
    "a = rg.random((2,3))\n",
    "a.min()\n",
    "a.max()\n",
    "print(a)\n",
    "a.argmax()\n",
    "# a = np.array([1,2,3])\n",
    "print(a)\n",
    "# a.argmax()\n",
    "a.var()"
   ]
  },
  {
   "cell_type": "code",
   "execution_count": 92,
   "metadata": {},
   "outputs": [
    {
     "name": "stdout",
     "output_type": "stream",
     "text": [
      "[[ 0  1  2  3]\n",
      " [ 4  5  6  7]\n",
      " [ 8  9 10 11]]\n"
     ]
    },
    {
     "data": {
      "text/plain": [
       "array([[ 0,  1,  3,  6],\n",
       "       [ 4,  9, 15, 22],\n",
       "       [ 8, 17, 27, 38]], dtype=int32)"
      ]
     },
     "execution_count": 92,
     "metadata": {},
     "output_type": "execute_result"
    }
   ],
   "source": [
    "b = np.arange(12).reshape(3,4)\n",
    "print(b)\n",
    "b.sum(axis=0) ##sum of each column\n",
    "b.min(axis=1) ##min of each row\n",
    "b.cumsum(axis=1) ##cumulative sum along each row"
   ]
  },
  {
   "cell_type": "code",
   "execution_count": 93,
   "metadata": {},
   "outputs": [
    {
     "data": {
      "text/plain": [
       "array([2, 0, 6])"
      ]
     },
     "execution_count": 93,
     "metadata": {},
     "output_type": "execute_result"
    }
   ],
   "source": [
    "B = np.arange(3)\n",
    "np.exp(B)\n",
    "np.sqrt(B)\n",
    "C = np.array([2,-1,4])\n",
    "np.add(B,C)"
   ]
  },
  {
   "cell_type": "code",
   "execution_count": 94,
   "metadata": {},
   "outputs": [
    {
     "name": "stdout",
     "output_type": "stream",
     "text": [
      "1: [  0   1   8  27  64 125 216 343 512 729]\n",
      "2: 8\n",
      "3: [ 8 27 64]\n",
      "4: [1000    1 1000   27 1000  125  216  343  512  729]\n",
      "5: [ 729  512  343  216  125 1000   27 1000    1 1000]\n",
      "9.999999999999998\n",
      "1.0\n",
      "9.999999999999998\n",
      "3.0\n",
      "9.999999999999998\n",
      "5.0\n",
      "5.999999999999999\n",
      "6.999999999999999\n",
      "7.999999999999999\n",
      "8.999999999999998\n"
     ]
    }
   ],
   "source": [
    "a = np.arange(10) ** 3\n",
    "print(\"1:\",a)\n",
    "print(\"2:\",a[2])\n",
    "print(\"3:\",a[2:5])\n",
    "# equivalent to a[0:6:2] = 1000;\n",
    "# from start to position 6, exclusive, set every 2nd element to 1000\n",
    "a[:6:2]=1000\n",
    "print(\"4:\", a)\n",
    "# reversed a\n",
    "print(\"5:\", a[: : -1])\n",
    "\n",
    "for i in a:\n",
    "    print(i**(1/3))\n",
    "    "
   ]
  },
  {
   "cell_type": "code",
   "execution_count": 95,
   "metadata": {},
   "outputs": [
    {
     "name": "stdout",
     "output_type": "stream",
     "text": [
      "1:\n",
      " [[ 0  1  2  3]\n",
      " [10 11 12 13]\n",
      " [20 21 22 23]\n",
      " [30 31 32 33]\n",
      " [40 41 42 43]]\n",
      "2: 23\n",
      "3: [ 1 11 21 31 41]\n",
      "4: [ 1 11 21 31 41]\n",
      "5:\n",
      " [[10 11 12 13]\n",
      " [20 21 22 23]]\n"
     ]
    }
   ],
   "source": [
    "def f(x,y):\n",
    "    return 10*x+y\n",
    "\n",
    "##5 by 4 matrix whose [i,j] = 10i+j\n",
    "b = np.fromfunction(f,(5,4), dtype=int)\n",
    "print(\"1:\\n\",b)\n",
    "print(\"2:\",b[2,3])\n",
    "print(\"3:\",b[0:5,1])\n",
    "print(\"4:\",b[:,1])\n",
    "print(\"5:\\n\",b[1:3, :])"
   ]
  },
  {
   "cell_type": "code",
   "execution_count": 96,
   "metadata": {},
   "outputs": [
    {
     "name": "stdout",
     "output_type": "stream",
     "text": [
      "1: (2, 2, 3)\n",
      "2:\n",
      " [[100 101 102]\n",
      " [110 112 113]]\n",
      "3:\n",
      " [[  2  13]\n",
      " [102 113]]\n"
     ]
    }
   ],
   "source": [
    "c = np.array([[[0,1,2],[10,12,13]],\n",
    "              [[100,101,102],[110,112,113]]])\n",
    "print(\"1:\",c.shape)\n",
    "print(\"2:\\n\",c[1,...]) ## == c[1,:,:]\n",
    "print(\"3:\\n\",c[...,2]) ## == c[:,:,2]"
   ]
  },
  {
   "cell_type": "code",
   "execution_count": 97,
   "metadata": {},
   "outputs": [
    {
     "name": "stdout",
     "output_type": "stream",
     "text": [
      "[0 1 2 3]\n",
      "[10 11 12 13]\n",
      "[20 21 22 23]\n",
      "[30 31 32 33]\n",
      "[40 41 42 43]\n"
     ]
    }
   ],
   "source": [
    "for row in b:\n",
    "    print(row)"
   ]
  },
  {
   "cell_type": "code",
   "execution_count": 98,
   "metadata": {},
   "outputs": [
    {
     "name": "stdout",
     "output_type": "stream",
     "text": [
      "0\n",
      "1\n",
      "2\n",
      "3\n",
      "10\n",
      "11\n",
      "12\n",
      "13\n",
      "20\n",
      "21\n",
      "22\n",
      "23\n",
      "30\n",
      "31\n",
      "32\n",
      "33\n",
      "40\n",
      "41\n",
      "42\n",
      "43\n"
     ]
    }
   ],
   "source": [
    "for element in b.flat:\n",
    "    print(element)"
   ]
  },
  {
   "cell_type": "code",
   "execution_count": 99,
   "metadata": {},
   "outputs": [
    {
     "data": {
      "text/plain": [
       "(3, 4)"
      ]
     },
     "execution_count": 99,
     "metadata": {},
     "output_type": "execute_result"
    }
   ],
   "source": [
    "a = np.floor(10*rg.random((3,4)))\n",
    "a\n",
    "a.shape"
   ]
  },
  {
   "cell_type": "code",
   "execution_count": 100,
   "metadata": {},
   "outputs": [
    {
     "name": "stdout",
     "output_type": "stream",
     "text": [
      "[3. 7. 3. 4. 1. 4. 2. 2. 7. 2. 4. 9.]\n",
      "[[3. 7.]\n",
      " [3. 4.]\n",
      " [1. 4.]\n",
      " [2. 2.]\n",
      " [7. 2.]\n",
      " [4. 9.]]\n",
      "[[3. 1. 7.]\n",
      " [7. 4. 2.]\n",
      " [3. 2. 4.]\n",
      " [4. 2. 9.]]\n"
     ]
    }
   ],
   "source": [
    "print(a.ravel()) ##unwrap\n",
    "print(a.reshape(6,2))\n",
    "print(a.T) ##transpose\n"
   ]
  },
  {
   "cell_type": "code",
   "execution_count": 101,
   "metadata": {},
   "outputs": [
    {
     "data": {
      "text/plain": [
       "array([[3., 7., 3., 4., 1., 4.],\n",
       "       [2., 2., 7., 2., 4., 9.]])"
      ]
     },
     "execution_count": 101,
     "metadata": {},
     "output_type": "execute_result"
    }
   ],
   "source": [
    "a\n",
    "a.resize((2,6))\n",
    "a"
   ]
  },
  {
   "cell_type": "code",
   "execution_count": 102,
   "metadata": {},
   "outputs": [
    {
     "data": {
      "text/plain": [
       "array([[3., 7., 3., 4.],\n",
       "       [1., 4., 2., 2.],\n",
       "       [7., 2., 4., 9.]])"
      ]
     },
     "execution_count": 102,
     "metadata": {},
     "output_type": "execute_result"
    }
   ],
   "source": [
    "a.reshape(3,-1) ##3 by automatically calculated"
   ]
  },
  {
   "cell_type": "code",
   "execution_count": 103,
   "metadata": {},
   "outputs": [
    {
     "name": "stdout",
     "output_type": "stream",
     "text": [
      "[[9. 7.]\n",
      " [5. 2.]]\n",
      "[[1. 9.]\n",
      " [5. 1.]]\n",
      "\n",
      "vertical\n",
      "[[9. 7.]\n",
      " [5. 2.]\n",
      " [1. 9.]\n",
      " [5. 1.]]\n",
      "horizontal\n",
      "[[9. 7. 1. 9.]\n",
      " [5. 2. 5. 1.]]\n"
     ]
    }
   ],
   "source": [
    "a = np.floor(10*rg.random((2,2)))\n",
    "print(a)\n",
    "b = np.floor(10*rg.random((2,2)))\n",
    "print(b)\n",
    "print()\n",
    "print(\"vertical\")\n",
    "print(np.vstack((a,b))) ##vertically concatanate\n",
    "print(\"horizontal\")\n",
    "print(np.hstack((a,b))) ##horizontally concatanate\n"
   ]
  },
  {
   "cell_type": "code",
   "execution_count": 104,
   "metadata": {
    "scrolled": true
   },
   "outputs": [
    {
     "name": "stdout",
     "output_type": "stream",
     "text": [
      "[[9. 7.]\n",
      " [5. 2.]]\n",
      "\n",
      "[[1. 9.]\n",
      " [5. 1.]]\n",
      "[[9. 7. 1. 9.]\n",
      " [5. 2. 5. 1.]]\n",
      "\n",
      "a\n",
      "[4 2]\n",
      "b\n",
      "[3 8]\n",
      "create matrix using 1d arrays as each column\n",
      "[[4 3]\n",
      " [2 8]]\n",
      "hstack\n",
      "[4 2 3 8]\n",
      "view \"a\" as 2d vector\n",
      "[[4]\n",
      " [2]]\n",
      "same as horizontal\n",
      "[[4 3]\n",
      " [2 8]]\n",
      "horizontal\n",
      "[[4 3]\n",
      " [2 8]]\n"
     ]
    }
   ],
   "source": [
    "from numpy import newaxis\n",
    "print(a)\n",
    "print()\n",
    "print(b)\n",
    "\n",
    "print(np.column_stack((a,b))) ##concatanate columns together\n",
    "print()\n",
    "a = np.array([4,2])\n",
    "print(\"a\")\n",
    "print(a)\n",
    "b = np.array([3,8])\n",
    "print(\"b\")\n",
    "print(b)\n",
    "print(\"create matrix using 1d arrays as each column\")\n",
    "print(np.column_stack((a,b)))\n",
    "print(\"hstack\")\n",
    "print(np.hstack((a,b)))\n",
    "print(\"view \\\"a\\\" as 2d vector\")\n",
    "print(a[:,newaxis])\n",
    "print(\"same as horizontal\")\n",
    "print(np.column_stack((a[:,newaxis],b[:,newaxis])))\n",
    "print(\"horizontal\")\n",
    "print(np.hstack((a[:,newaxis],b[:,newaxis])))"
   ]
  },
  {
   "cell_type": "code",
   "execution_count": 105,
   "metadata": {},
   "outputs": [
    {
     "name": "stdout",
     "output_type": "stream",
     "text": [
      "False\n",
      "True\n"
     ]
    }
   ],
   "source": [
    "print(np.column_stack is np.hstack)\n",
    "\n",
    "print(np.row_stack is np.vstack)"
   ]
  },
  {
   "cell_type": "markdown",
   "metadata": {},
   "source": [
    "In general, for arrays with more than two dimensions, **hstack** stacks **along their second axes**, **vstack **stacks **along their first** axes, and concatenate allows for an optional arguments giving the number of the axis along which the concatenation should happen.\n",
    "\n",
    "\n",
    "In complex cases, **r_ and c_ are** useful for creating arrays by **stacking numbers along one axis**. They allow the use of range literals (“:”)"
   ]
  },
  {
   "cell_type": "code",
   "execution_count": 106,
   "metadata": {},
   "outputs": [
    {
     "data": {
      "text/plain": [
       "array([1, 2, 3, 0, 4])"
      ]
     },
     "execution_count": 106,
     "metadata": {},
     "output_type": "execute_result"
    }
   ],
   "source": [
    "np.r_[1:4,0,4]"
   ]
  },
  {
   "cell_type": "code",
   "execution_count": 107,
   "metadata": {},
   "outputs": [
    {
     "name": "stdout",
     "output_type": "stream",
     "text": [
      "a\n",
      "[[6. 7. 6. 9. 0. 5. 4. 0. 6. 8. 5. 2.]\n",
      " [8. 5. 5. 7. 1. 8. 6. 7. 1. 8. 1. 0.]]\n",
      "Split a into 3\n",
      "[[6. 7. 6. 9.]\n",
      " [8. 5. 5. 7.]] \n",
      "\n",
      " [[0. 5. 4. 0.]\n",
      " [1. 8. 6. 7.]] \n",
      "\n",
      " [[6. 8. 5. 2.]\n",
      " [1. 8. 1. 0.]] \n",
      "\n",
      "\n",
      "Split a after 3rd and 4th column\n",
      "[[6. 7. 6.]\n",
      " [8. 5. 5.]] \n",
      "\n",
      " [[9.]\n",
      " [7.]] \n",
      "\n",
      " [[0. 5. 4. 0. 6. 8. 5. 2.]\n",
      " [1. 8. 6. 7. 1. 8. 1. 0.]] \n",
      "\n",
      "\n"
     ]
    }
   ],
   "source": [
    "a = np.floor(10*rg.random((2,12)))\n",
    "print(\"a\")\n",
    "print(a)\n",
    "print(\"Split a into 3\")\n",
    "print(np.hsplit(a,3)[0],\"\\n\\n\",np.hsplit(a,3)[1],\"\\n\\n\",np.hsplit(a,3)[2],\"\\n\\n\")\n",
    "print(\"Split a after 3rd and 4th column\")\n",
    "print(np.hsplit(a,(3,4))[0],\"\\n\\n\",\n",
    "     np.hsplit(a,(3,4))[1],\"\\n\\n\",\n",
    "      np.hsplit(a,(3,4))[2],\"\\n\\n\")"
   ]
  },
  {
   "cell_type": "code",
   "execution_count": 137,
   "metadata": {},
   "outputs": [
    {
     "data": {
      "text/plain": [
       "True"
      ]
     },
     "execution_count": 137,
     "metadata": {},
     "output_type": "execute_result"
    }
   ],
   "source": [
    "a = np.arange(12).reshape((3,4))\n",
    "b=a\n",
    "b is a ##a and b are pointing the same object"
   ]
  },
  {
   "cell_type": "code",
   "execution_count": 138,
   "metadata": {},
   "outputs": [
    {
     "name": "stdout",
     "output_type": "stream",
     "text": [
      "3011952582864\n",
      "None 3011952582864\n"
     ]
    }
   ],
   "source": [
    "def f(x):\n",
    "    print(id(x))\n",
    "print(f(a),id(a))"
   ]
  },
  {
   "cell_type": "code",
   "execution_count": 152,
   "metadata": {},
   "outputs": [
    {
     "name": "stdout",
     "output_type": "stream",
     "text": [
      "create view object\n",
      "False\n",
      "\n",
      "False\n",
      "[   0    1    2    3 1234    5    6    7    8    9   10   11]\n",
      "\n",
      "False\n",
      "size of a does not change\n",
      "(3, 4)\n",
      "a change\n",
      "[[   0    1    2    3]\n",
      " [1234    5    6    7]\n",
      " [   8    9   10   11]]\n"
     ]
    }
   ],
   "source": [
    "a.resize((3,4))\n",
    "print(\"create view object\")\n",
    "c = a.view()\n",
    "print(c is a)\n",
    "print()\n",
    "print(c.base is a)\n",
    "print(c.base)\n",
    "print()\n",
    "print(c.flags.owndata)\n",
    "c = c.reshape((2,6))\n",
    "print(\"size of a does not change\")\n",
    "print(a.shape)\n",
    "c[0,4]=1234\n",
    "print(\"a change\")\n",
    "print(a)"
   ]
  },
  {
   "cell_type": "code",
   "execution_count": 160,
   "metadata": {},
   "outputs": [
    {
     "name": "stdout",
     "output_type": "stream",
     "text": [
      "slicing array return view\n",
      "a changes after assignment to c\n",
      "[[   0   10   10    3]\n",
      " [1234   10   10    7]\n",
      " [   8   10   10   11]]\n"
     ]
    }
   ],
   "source": [
    "print(\"slicing array return view\")\n",
    "s = a[:, 1:3]\n",
    "s[:] = 10\n",
    "print(\"a changes after assignment to c\")\n",
    "print(a)"
   ]
  },
  {
   "cell_type": "code",
   "execution_count": 163,
   "metadata": {},
   "outputs": [
    {
     "name": "stdout",
     "output_type": "stream",
     "text": [
      "deep copy\n",
      "False\n",
      "False\n",
      "a doesn't change after assignment to d\n",
      "[[   0   10   10    3]\n",
      " [1234   10   10    7]\n",
      " [   8   10   10   11]]\n"
     ]
    }
   ],
   "source": [
    "d = a.copy()\n",
    "print(\"deep copy\")\n",
    "print(d is a)\n",
    "print(d.base is a)\n",
    "d[0,0] = 999\n",
    "print(\"a doesn't change after assignment to d\")\n",
    "print(a)"
   ]
  },
  {
   "cell_type": "code",
   "execution_count": 166,
   "metadata": {},
   "outputs": [],
   "source": [
    "a = np.arange(int(1e8))\n",
    "b = a[:100].copy ##save memory by not copying all of a\n",
    "del a ##the memory of \"a\" can be released "
   ]
  },
  {
   "cell_type": "code",
   "execution_count": 167,
   "metadata": {},
   "outputs": [
    {
     "data": {
      "text/plain": [
       "array([ 1,  1,  9, 64, 25], dtype=int32)"
      ]
     },
     "execution_count": 167,
     "metadata": {},
     "output_type": "execute_result"
    }
   ],
   "source": [
    "a = np.arange(12) ** 2\n",
    "i = np.array([1,1,3,8,5])\n",
    "a[i] ##indexing by an array"
   ]
  },
  {
   "cell_type": "code",
   "execution_count": 168,
   "metadata": {},
   "outputs": [
    {
     "data": {
      "text/plain": [
       "array([[ 9, 16],\n",
       "       [81, 49]], dtype=int32)"
      ]
     },
     "execution_count": 168,
     "metadata": {},
     "output_type": "execute_result"
    }
   ],
   "source": [
    "j = np.array([[3,4],[9,7]])\n",
    "a[j]"
   ]
  },
  {
   "cell_type": "code",
   "execution_count": 171,
   "metadata": {},
   "outputs": [
    {
     "data": {
      "text/plain": [
       "array([[[  0,   0,   0],\n",
       "        [255,   0,   0],\n",
       "        [  0, 255,   0],\n",
       "        [  0,   0,   0]],\n",
       "\n",
       "       [[  0,   0,   0],\n",
       "        [  0,   0, 255],\n",
       "        [255, 255, 255],\n",
       "        [  0,   0,   0]]])"
      ]
     },
     "execution_count": 171,
     "metadata": {},
     "output_type": "execute_result"
    }
   ],
   "source": [
    "palette = np.array([[0,0,0],[255,0,0],[0,255,0],[0,0,255],[255,255,255]])\n",
    "image = np.array([[0,1,2,0],[0,3,4,0]])\n",
    "palette[image]"
   ]
  },
  {
   "cell_type": "code",
   "execution_count": 203,
   "metadata": {},
   "outputs": [
    {
     "name": "stdout",
     "output_type": "stream",
     "text": [
      "a\n",
      "[[ 0  1  2  3]\n",
      " [ 4  5  6  7]\n",
      " [ 8  9 10 11]]\n",
      "i\n",
      "[[0 1]\n",
      " [1 2]]\n",
      "j\n",
      "[[2 1]\n",
      " [3 3]]\n",
      "\n",
      "a[i,j]\n",
      "[[ 2  5]\n",
      " [ 7 11]]\n"
     ]
    }
   ],
   "source": [
    "a = np.arange(12).reshape(3,4)\n",
    "print(\"a\")\n",
    "print(a)\n",
    "i = np.array([[0,1],[1,2]])\n",
    "print(\"i\")\n",
    "print(i)\n",
    "j = np.array([[2,1],[3,3]])\n",
    "print(\"j\")\n",
    "print(j)\n",
    "print()\n",
    "print(\"a[i,j]\")\n",
    "print(a[i,j]) ##[0,0] = a[i[0,0],j[0,0]] , [0,1]=a[i[0,1],j[0,1]]"
   ]
  },
  {
   "cell_type": "code",
   "execution_count": 207,
   "metadata": {},
   "outputs": [
    {
     "name": "stdout",
     "output_type": "stream",
     "text": [
      "a[i,2]\n",
      "[[ 2  6]\n",
      " [ 6 10]]\n",
      "\n",
      "a[:,j]\n",
      "[[[ 2  1]\n",
      "  [ 3  3]]\n",
      "\n",
      " [[ 6  5]\n",
      "  [ 7  7]]\n",
      "\n",
      " [[10  9]\n",
      "  [11 11]]]\n"
     ]
    }
   ],
   "source": [
    "print(\"a[i,2]\")\n",
    "print(a[i,2])\n",
    "print()\n",
    "print(\"a[:,j]\")\n",
    "print(a[:,j]) ##first row, second row, third row"
   ]
  },
  {
   "cell_type": "code",
   "execution_count": 212,
   "metadata": {},
   "outputs": [
    {
     "name": "stdout",
     "output_type": "stream",
     "text": [
      "(array([[0, 1],\n",
      "       [1, 2]]), array([[2, 1],\n",
      "       [3, 3]]))\n"
     ]
    },
    {
     "data": {
      "text/plain": [
       "array([[ 2,  5],\n",
       "       [ 7, 11]])"
      ]
     },
     "execution_count": 212,
     "metadata": {},
     "output_type": "execute_result"
    }
   ],
   "source": [
    "l = (i,j) ##same as a[i,j]\n",
    "print(l)\n",
    "a[l]"
   ]
  },
  {
   "cell_type": "code",
   "execution_count": 215,
   "metadata": {},
   "outputs": [
    {
     "data": {
      "text/plain": [
       "array([[ 2,  5],\n",
       "       [ 7, 11]])"
      ]
     },
     "execution_count": 215,
     "metadata": {},
     "output_type": "execute_result"
    }
   ],
   "source": [
    "##invalid for indexing \n",
    "s = np.array([i,j])\n",
    "#a[s]\n",
    "\n",
    "a[tuple(s)] ## same as a[i,j]"
   ]
  },
  {
   "cell_type": "code",
   "execution_count": 229,
   "metadata": {},
   "outputs": [
    {
     "name": "stdout",
     "output_type": "stream",
     "text": [
      "time\n",
      "[ 20.    51.25  82.5  113.75 145.  ]\n",
      "data\n",
      "[[ 0.          0.84147098  0.90929743  0.14112001]\n",
      " [-0.7568025  -0.95892427 -0.2794155   0.6569866 ]\n",
      " [ 0.98935825  0.41211849 -0.54402111 -0.99999021]\n",
      " [-0.53657292  0.42016704  0.99060736  0.65028784]\n",
      " [-0.28790332 -0.96139749 -0.75098725  0.14987721]]\n",
      "index of the maxima for each series\n",
      "[2 0 3 1]\n",
      "times corresopnding to the maxima\n",
      "[ 82.5   20.   113.75  51.25]\n",
      "max values for axis 0\n",
      "[0.98935825 0.84147098 0.99060736 0.6569866 ]\n",
      "True\n"
     ]
    }
   ],
   "source": [
    "time = np.linspace(20,145,5)\n",
    "data = np.sin(np.arange(20)).reshape(5,4)\n",
    "print(\"time\")\n",
    "print(time)\n",
    "print(\"data\")\n",
    "print(data)\n",
    "\n",
    "print(\"index of the maxima for each series\")\n",
    "ind = data.argmax(axis=0) ##axis=0 => max of each column\n",
    "print(ind) ##axis=1 => max of each row\n",
    "time_max = time[ind]\n",
    "data_max = data[ind,range(data.shape[1])] ##data[ind[0],0], data[ind[1],1], etc..\n",
    "print(\"times corresopnding to the maxima\")\n",
    "print(time[ind])\n",
    "print(\"max values for axis 0\")\n",
    "print(data_max)\n",
    "print(np.all(data_max==data.max(axis=0)))"
   ]
  },
  {
   "cell_type": "code",
   "execution_count": 232,
   "metadata": {},
   "outputs": [
    {
     "data": {
      "text/plain": [
       "array([0, 0, 2, 0, 0])"
      ]
     },
     "execution_count": 232,
     "metadata": {},
     "output_type": "execute_result"
    }
   ],
   "source": [
    "a = np.arange(5)\n",
    "a[[1,3,4]]=0 ##assign 0 to multiple indeces at once\n",
    "a"
   ]
  },
  {
   "cell_type": "code",
   "execution_count": 233,
   "metadata": {},
   "outputs": [
    {
     "data": {
      "text/plain": [
       "array([2, 1, 3, 3, 4])"
      ]
     },
     "execution_count": 233,
     "metadata": {},
     "output_type": "execute_result"
    }
   ],
   "source": [
    "a = np.arange(5)\n",
    "a[[0,0,2]]=[1,2,3] ##since assign values to 0 twice\n",
    "a                  ##whatever the last value is assigned"
   ]
  },
  {
   "cell_type": "code",
   "execution_count": 234,
   "metadata": {},
   "outputs": [
    {
     "data": {
      "text/plain": [
       "array([1, 1, 3, 3, 4])"
      ]
     },
     "execution_count": 234,
     "metadata": {},
     "output_type": "execute_result"
    }
   ],
   "source": [
    "a = np.arange(5)\n",
    "a[[0,0,2]]+=1 ##0 occurs twice, but\n",
    "a             ##0th element only incremented once"
   ]
  },
  {
   "cell_type": "code",
   "execution_count": 237,
   "metadata": {},
   "outputs": [
    {
     "name": "stdout",
     "output_type": "stream",
     "text": [
      "[[False False False False]\n",
      " [False  True  True  True]\n",
      " [ True  True  True  True]]\n",
      "[ 5  6  7  8  9 10 11]\n"
     ]
    }
   ],
   "source": [
    "##boolean arrays\n",
    "a = np.arange(12).reshape(3,4)\n",
    "b = a > 4\n",
    "print(b)\n",
    "print(a[b])##contains values at true indeces"
   ]
  },
  {
   "cell_type": "code",
   "execution_count": 260,
   "metadata": {},
   "outputs": [
    {
     "data": {
      "text/plain": [
       "[array([[-1.4       ],\n",
       "        [-1.39298246],\n",
       "        [-1.38596491],\n",
       "        [-1.37894737],\n",
       "        [-1.37192982],\n",
       "        [-1.36491228],\n",
       "        [-1.35789474],\n",
       "        [-1.35087719],\n",
       "        [-1.34385965],\n",
       "        [-1.33684211],\n",
       "        [-1.32982456],\n",
       "        [-1.32280702],\n",
       "        [-1.31578947],\n",
       "        [-1.30877193],\n",
       "        [-1.30175439],\n",
       "        [-1.29473684],\n",
       "        [-1.2877193 ],\n",
       "        [-1.28070175],\n",
       "        [-1.27368421],\n",
       "        [-1.26666667],\n",
       "        [-1.25964912],\n",
       "        [-1.25263158],\n",
       "        [-1.24561404],\n",
       "        [-1.23859649],\n",
       "        [-1.23157895],\n",
       "        [-1.2245614 ],\n",
       "        [-1.21754386],\n",
       "        [-1.21052632],\n",
       "        [-1.20350877],\n",
       "        [-1.19649123],\n",
       "        [-1.18947368],\n",
       "        [-1.18245614],\n",
       "        [-1.1754386 ],\n",
       "        [-1.16842105],\n",
       "        [-1.16140351],\n",
       "        [-1.15438596],\n",
       "        [-1.14736842],\n",
       "        [-1.14035088],\n",
       "        [-1.13333333],\n",
       "        [-1.12631579],\n",
       "        [-1.11929825],\n",
       "        [-1.1122807 ],\n",
       "        [-1.10526316],\n",
       "        [-1.09824561],\n",
       "        [-1.09122807],\n",
       "        [-1.08421053],\n",
       "        [-1.07719298],\n",
       "        [-1.07017544],\n",
       "        [-1.06315789],\n",
       "        [-1.05614035],\n",
       "        [-1.04912281],\n",
       "        [-1.04210526],\n",
       "        [-1.03508772],\n",
       "        [-1.02807018],\n",
       "        [-1.02105263],\n",
       "        [-1.01403509],\n",
       "        [-1.00701754],\n",
       "        [-1.        ],\n",
       "        [-0.99298246],\n",
       "        [-0.98596491],\n",
       "        [-0.97894737],\n",
       "        [-0.97192982],\n",
       "        [-0.96491228],\n",
       "        [-0.95789474],\n",
       "        [-0.95087719],\n",
       "        [-0.94385965],\n",
       "        [-0.93684211],\n",
       "        [-0.92982456],\n",
       "        [-0.92280702],\n",
       "        [-0.91578947],\n",
       "        [-0.90877193],\n",
       "        [-0.90175439],\n",
       "        [-0.89473684],\n",
       "        [-0.8877193 ],\n",
       "        [-0.88070175],\n",
       "        [-0.87368421],\n",
       "        [-0.86666667],\n",
       "        [-0.85964912],\n",
       "        [-0.85263158],\n",
       "        [-0.84561404],\n",
       "        [-0.83859649],\n",
       "        [-0.83157895],\n",
       "        [-0.8245614 ],\n",
       "        [-0.81754386],\n",
       "        [-0.81052632],\n",
       "        [-0.80350877],\n",
       "        [-0.79649123],\n",
       "        [-0.78947368],\n",
       "        [-0.78245614],\n",
       "        [-0.7754386 ],\n",
       "        [-0.76842105],\n",
       "        [-0.76140351],\n",
       "        [-0.75438596],\n",
       "        [-0.74736842],\n",
       "        [-0.74035088],\n",
       "        [-0.73333333],\n",
       "        [-0.72631579],\n",
       "        [-0.71929825],\n",
       "        [-0.7122807 ],\n",
       "        [-0.70526316],\n",
       "        [-0.69824561],\n",
       "        [-0.69122807],\n",
       "        [-0.68421053],\n",
       "        [-0.67719298],\n",
       "        [-0.67017544],\n",
       "        [-0.66315789],\n",
       "        [-0.65614035],\n",
       "        [-0.64912281],\n",
       "        [-0.64210526],\n",
       "        [-0.63508772],\n",
       "        [-0.62807018],\n",
       "        [-0.62105263],\n",
       "        [-0.61403509],\n",
       "        [-0.60701754],\n",
       "        [-0.6       ],\n",
       "        [-0.59298246],\n",
       "        [-0.58596491],\n",
       "        [-0.57894737],\n",
       "        [-0.57192982],\n",
       "        [-0.56491228],\n",
       "        [-0.55789474],\n",
       "        [-0.55087719],\n",
       "        [-0.54385965],\n",
       "        [-0.53684211],\n",
       "        [-0.52982456],\n",
       "        [-0.52280702],\n",
       "        [-0.51578947],\n",
       "        [-0.50877193],\n",
       "        [-0.50175439],\n",
       "        [-0.49473684],\n",
       "        [-0.4877193 ],\n",
       "        [-0.48070175],\n",
       "        [-0.47368421],\n",
       "        [-0.46666667],\n",
       "        [-0.45964912],\n",
       "        [-0.45263158],\n",
       "        [-0.44561404],\n",
       "        [-0.43859649],\n",
       "        [-0.43157895],\n",
       "        [-0.4245614 ],\n",
       "        [-0.41754386],\n",
       "        [-0.41052632],\n",
       "        [-0.40350877],\n",
       "        [-0.39649123],\n",
       "        [-0.38947368],\n",
       "        [-0.38245614],\n",
       "        [-0.3754386 ],\n",
       "        [-0.36842105],\n",
       "        [-0.36140351],\n",
       "        [-0.35438596],\n",
       "        [-0.34736842],\n",
       "        [-0.34035088],\n",
       "        [-0.33333333],\n",
       "        [-0.32631579],\n",
       "        [-0.31929825],\n",
       "        [-0.3122807 ],\n",
       "        [-0.30526316],\n",
       "        [-0.29824561],\n",
       "        [-0.29122807],\n",
       "        [-0.28421053],\n",
       "        [-0.27719298],\n",
       "        [-0.27017544],\n",
       "        [-0.26315789],\n",
       "        [-0.25614035],\n",
       "        [-0.24912281],\n",
       "        [-0.24210526],\n",
       "        [-0.23508772],\n",
       "        [-0.22807018],\n",
       "        [-0.22105263],\n",
       "        [-0.21403509],\n",
       "        [-0.20701754],\n",
       "        [-0.2       ],\n",
       "        [-0.19298246],\n",
       "        [-0.18596491],\n",
       "        [-0.17894737],\n",
       "        [-0.17192982],\n",
       "        [-0.16491228],\n",
       "        [-0.15789474],\n",
       "        [-0.15087719],\n",
       "        [-0.14385965],\n",
       "        [-0.13684211],\n",
       "        [-0.12982456],\n",
       "        [-0.12280702],\n",
       "        [-0.11578947],\n",
       "        [-0.10877193],\n",
       "        [-0.10175439],\n",
       "        [-0.09473684],\n",
       "        [-0.0877193 ],\n",
       "        [-0.08070175],\n",
       "        [-0.07368421],\n",
       "        [-0.06666667],\n",
       "        [-0.05964912],\n",
       "        [-0.05263158],\n",
       "        [-0.04561404],\n",
       "        [-0.03859649],\n",
       "        [-0.03157895],\n",
       "        [-0.0245614 ],\n",
       "        [-0.01754386],\n",
       "        [-0.01052632],\n",
       "        [-0.00350877],\n",
       "        [ 0.00350877],\n",
       "        [ 0.01052632],\n",
       "        [ 0.01754386],\n",
       "        [ 0.0245614 ],\n",
       "        [ 0.03157895],\n",
       "        [ 0.03859649],\n",
       "        [ 0.04561404],\n",
       "        [ 0.05263158],\n",
       "        [ 0.05964912],\n",
       "        [ 0.06666667],\n",
       "        [ 0.07368421],\n",
       "        [ 0.08070175],\n",
       "        [ 0.0877193 ],\n",
       "        [ 0.09473684],\n",
       "        [ 0.10175439],\n",
       "        [ 0.10877193],\n",
       "        [ 0.11578947],\n",
       "        [ 0.12280702],\n",
       "        [ 0.12982456],\n",
       "        [ 0.13684211],\n",
       "        [ 0.14385965],\n",
       "        [ 0.15087719],\n",
       "        [ 0.15789474],\n",
       "        [ 0.16491228],\n",
       "        [ 0.17192982],\n",
       "        [ 0.17894737],\n",
       "        [ 0.18596491],\n",
       "        [ 0.19298246],\n",
       "        [ 0.2       ],\n",
       "        [ 0.20701754],\n",
       "        [ 0.21403509],\n",
       "        [ 0.22105263],\n",
       "        [ 0.22807018],\n",
       "        [ 0.23508772],\n",
       "        [ 0.24210526],\n",
       "        [ 0.24912281],\n",
       "        [ 0.25614035],\n",
       "        [ 0.26315789],\n",
       "        [ 0.27017544],\n",
       "        [ 0.27719298],\n",
       "        [ 0.28421053],\n",
       "        [ 0.29122807],\n",
       "        [ 0.29824561],\n",
       "        [ 0.30526316],\n",
       "        [ 0.3122807 ],\n",
       "        [ 0.31929825],\n",
       "        [ 0.32631579],\n",
       "        [ 0.33333333],\n",
       "        [ 0.34035088],\n",
       "        [ 0.34736842],\n",
       "        [ 0.35438596],\n",
       "        [ 0.36140351],\n",
       "        [ 0.36842105],\n",
       "        [ 0.3754386 ],\n",
       "        [ 0.38245614],\n",
       "        [ 0.38947368],\n",
       "        [ 0.39649123],\n",
       "        [ 0.40350877],\n",
       "        [ 0.41052632],\n",
       "        [ 0.41754386],\n",
       "        [ 0.4245614 ],\n",
       "        [ 0.43157895],\n",
       "        [ 0.43859649],\n",
       "        [ 0.44561404],\n",
       "        [ 0.45263158],\n",
       "        [ 0.45964912],\n",
       "        [ 0.46666667],\n",
       "        [ 0.47368421],\n",
       "        [ 0.48070175],\n",
       "        [ 0.4877193 ],\n",
       "        [ 0.49473684],\n",
       "        [ 0.50175439],\n",
       "        [ 0.50877193],\n",
       "        [ 0.51578947],\n",
       "        [ 0.52280702],\n",
       "        [ 0.52982456],\n",
       "        [ 0.53684211],\n",
       "        [ 0.54385965],\n",
       "        [ 0.55087719],\n",
       "        [ 0.55789474],\n",
       "        [ 0.56491228],\n",
       "        [ 0.57192982],\n",
       "        [ 0.57894737],\n",
       "        [ 0.58596491],\n",
       "        [ 0.59298246],\n",
       "        [ 0.6       ],\n",
       "        [ 0.60701754],\n",
       "        [ 0.61403509],\n",
       "        [ 0.62105263],\n",
       "        [ 0.62807018],\n",
       "        [ 0.63508772],\n",
       "        [ 0.64210526],\n",
       "        [ 0.64912281],\n",
       "        [ 0.65614035],\n",
       "        [ 0.66315789],\n",
       "        [ 0.67017544],\n",
       "        [ 0.67719298],\n",
       "        [ 0.68421053],\n",
       "        [ 0.69122807],\n",
       "        [ 0.69824561],\n",
       "        [ 0.70526316],\n",
       "        [ 0.7122807 ],\n",
       "        [ 0.71929825],\n",
       "        [ 0.72631579],\n",
       "        [ 0.73333333],\n",
       "        [ 0.74035088],\n",
       "        [ 0.74736842],\n",
       "        [ 0.75438596],\n",
       "        [ 0.76140351],\n",
       "        [ 0.76842105],\n",
       "        [ 0.7754386 ],\n",
       "        [ 0.78245614],\n",
       "        [ 0.78947368],\n",
       "        [ 0.79649123],\n",
       "        [ 0.80350877],\n",
       "        [ 0.81052632],\n",
       "        [ 0.81754386],\n",
       "        [ 0.8245614 ],\n",
       "        [ 0.83157895],\n",
       "        [ 0.83859649],\n",
       "        [ 0.84561404],\n",
       "        [ 0.85263158],\n",
       "        [ 0.85964912],\n",
       "        [ 0.86666667],\n",
       "        [ 0.87368421],\n",
       "        [ 0.88070175],\n",
       "        [ 0.8877193 ],\n",
       "        [ 0.89473684],\n",
       "        [ 0.90175439],\n",
       "        [ 0.90877193],\n",
       "        [ 0.91578947],\n",
       "        [ 0.92280702],\n",
       "        [ 0.92982456],\n",
       "        [ 0.93684211],\n",
       "        [ 0.94385965],\n",
       "        [ 0.95087719],\n",
       "        [ 0.95789474],\n",
       "        [ 0.96491228],\n",
       "        [ 0.97192982],\n",
       "        [ 0.97894737],\n",
       "        [ 0.98596491],\n",
       "        [ 0.99298246],\n",
       "        [ 1.        ],\n",
       "        [ 1.00701754],\n",
       "        [ 1.01403509],\n",
       "        [ 1.02105263],\n",
       "        [ 1.02807018],\n",
       "        [ 1.03508772],\n",
       "        [ 1.04210526],\n",
       "        [ 1.04912281],\n",
       "        [ 1.05614035],\n",
       "        [ 1.06315789],\n",
       "        [ 1.07017544],\n",
       "        [ 1.07719298],\n",
       "        [ 1.08421053],\n",
       "        [ 1.09122807],\n",
       "        [ 1.09824561],\n",
       "        [ 1.10526316],\n",
       "        [ 1.1122807 ],\n",
       "        [ 1.11929825],\n",
       "        [ 1.12631579],\n",
       "        [ 1.13333333],\n",
       "        [ 1.14035088],\n",
       "        [ 1.14736842],\n",
       "        [ 1.15438596],\n",
       "        [ 1.16140351],\n",
       "        [ 1.16842105],\n",
       "        [ 1.1754386 ],\n",
       "        [ 1.18245614],\n",
       "        [ 1.18947368],\n",
       "        [ 1.19649123],\n",
       "        [ 1.20350877],\n",
       "        [ 1.21052632],\n",
       "        [ 1.21754386],\n",
       "        [ 1.2245614 ],\n",
       "        [ 1.23157895],\n",
       "        [ 1.23859649],\n",
       "        [ 1.24561404],\n",
       "        [ 1.25263158],\n",
       "        [ 1.25964912],\n",
       "        [ 1.26666667],\n",
       "        [ 1.27368421],\n",
       "        [ 1.28070175],\n",
       "        [ 1.2877193 ],\n",
       "        [ 1.29473684],\n",
       "        [ 1.30175439],\n",
       "        [ 1.30877193],\n",
       "        [ 1.31578947],\n",
       "        [ 1.32280702],\n",
       "        [ 1.32982456],\n",
       "        [ 1.33684211],\n",
       "        [ 1.34385965],\n",
       "        [ 1.35087719],\n",
       "        [ 1.35789474],\n",
       "        [ 1.36491228],\n",
       "        [ 1.37192982],\n",
       "        [ 1.37894737],\n",
       "        [ 1.38596491],\n",
       "        [ 1.39298246],\n",
       "        [ 1.4       ]]),\n",
       " array([[-2. , -1.3, -0.6,  0.1,  0.8]])]"
      ]
     },
     "execution_count": 260,
     "metadata": {},
     "output_type": "execute_result"
    }
   ],
   "source": [
    "##all elements of \"a\" higher than 4 become 0\n",
    "a[b]=0\n",
    "a\n",
    "np.ogrid[-1.4:1.4:400*1j,-2:0.8:5*1j]"
   ]
  },
  {
   "cell_type": "code",
   "execution_count": 256,
   "metadata": {},
   "outputs": [
    {
     "data": {
      "text/plain": [
       "20"
      ]
     },
     "execution_count": 256,
     "metadata": {},
     "output_type": "execute_result"
    },
    {
     "data": {
      "image/png": "[encoded data removed]",
      "text/plain": [
       "<Figure size 432x288 with 1 Axes>"
      ]
     },
     "metadata": {
      "needs_background": "light"
     },
     "output_type": "display_data"
    }
   ],
   "source": [
    "import numpy as np\n",
    "import matplotlib.pyplot as plt\n",
    "def mandelbrot(h,w,maxit=20):\n",
    "    y,x = np.ogrid[-1.4:1.4:h*1j,-2:0.8:w*1j]\n",
    "    c = x+y*1j\n",
    "    z = c\n",
    "    divtime = maxit + np.zeros(z.shape,dtype=int)\n",
    "    \n",
    "    for i in range(maxit):\n",
    "        z = z**2+c\n",
    "        diverge=z*np.conj(z)>2**2 ##who is diverging \n",
    "        div_now = diverge & (divtime==maxit) ##who is diverging now\n",
    "        divtime[div_now]=i\n",
    "        z[diverge]=2\n",
    "    return divtime\n",
    "plt.imshow(mandelbrot(400,400))"
   ]
  },
  {
   "cell_type": "code",
   "execution_count": 275,
   "metadata": {},
   "outputs": [
    {
     "data": {
      "text/plain": [
       "(-7+24j)"
      ]
     },
     "execution_count": 275,
     "metadata": {},
     "output_type": "execute_result"
    }
   ],
   "source": [
    "np.ogrid[1:10:100*1j]\n",
    "(3 + 4j)**2"
   ]
  },
  {
   "cell_type": "code",
   "execution_count": 279,
   "metadata": {},
   "outputs": [
    {
     "data": {
      "text/plain": [
       "array([ 4, 10])"
      ]
     },
     "execution_count": 279,
     "metadata": {},
     "output_type": "execute_result"
    }
   ],
   "source": [
    "a = np.arange(12).reshape(3,4)\n",
    "b1=np.array([False, True, True])\n",
    "b2=np.array([True, False, True, False])\n",
    "a[b1,:] ##only 1 and 2 rows\n",
    "a[b1] ##same as above\n",
    "a[:,b2] #only 0 and 2 columns \n",
    "a[b1,b2] ##a[1,0], a[2,2]"
   ]
  },
  {
   "cell_type": "code",
   "execution_count": 305,
   "metadata": {},
   "outputs": [
    {
     "name": "stdout",
     "output_type": "stream",
     "text": [
      "ax\n",
      "[[[2]]\n",
      "\n",
      " [[3]]\n",
      "\n",
      " [[4]]\n",
      "\n",
      " [[5]]]\n",
      "bx\n",
      "[[[8]\n",
      "  [5]\n",
      "  [4]]]\n",
      "cx\n",
      "[[[5 4 6 8 3]]]\n",
      "(4, 1, 1) (1, 3, 1) (1, 1, 5)\n"
     ]
    }
   ],
   "source": [
    "## I do not understand it very much \n",
    "##a + b*c?\n",
    "a = np.array([2,3,4,5])\n",
    "b = np.array([8,5,4])\n",
    "c = np.array([5,4,6,8,3])\n",
    "ax,bx,cx = np.ix_(a,b,c)\n",
    "print(\"ax\")\n",
    "print(ax)\n",
    "print(\"bx\")\n",
    "print(bx)\n",
    "print(\"cx\")\n",
    "print(cx)\n",
    "print(ax.shape,bx.shape, cx.shape)"
   ]
  },
  {
   "cell_type": "code",
   "execution_count": 306,
   "metadata": {},
   "outputs": [
    {
     "data": {
      "text/plain": [
       "True"
      ]
     },
     "execution_count": 306,
     "metadata": {},
     "output_type": "execute_result"
    }
   ],
   "source": [
    "result = ax+bx*cx\n",
    "result[3,2,4] == a[3]+b[2]*c[4]"
   ]
  },
  {
   "cell_type": "code",
   "execution_count": 307,
   "metadata": {},
   "outputs": [
    {
     "data": {
      "text/plain": [
       "array([[ 1,  2,  3,  4],\n",
       "       [ 2,  4,  6,  8],\n",
       "       [ 3,  6,  9, 12],\n",
       "       [ 4,  8, 12, 16]])"
      ]
     },
     "execution_count": 307,
     "metadata": {},
     "output_type": "execute_result"
    }
   ],
   "source": [
    "##creating psudo inverse\n",
    "x = np.array([1,2,3,4])\n",
    "y = x.copy()\n",
    "xx,yy = np.ix_(x,y)\n",
    "xx*yy"
   ]
  },
  {
   "cell_type": "code",
   "execution_count": 308,
   "metadata": {},
   "outputs": [
    {
     "data": {
      "text/plain": [
       "array([[[15, 14, 16, 18, 13],\n",
       "        [12, 11, 13, 15, 10],\n",
       "        [11, 10, 12, 14,  9]],\n",
       "\n",
       "       [[16, 15, 17, 19, 14],\n",
       "        [13, 12, 14, 16, 11],\n",
       "        [12, 11, 13, 15, 10]],\n",
       "\n",
       "       [[17, 16, 18, 20, 15],\n",
       "        [14, 13, 15, 17, 12],\n",
       "        [13, 12, 14, 16, 11]],\n",
       "\n",
       "       [[18, 17, 19, 21, 16],\n",
       "        [15, 14, 16, 18, 13],\n",
       "        [14, 13, 15, 17, 12]]])"
      ]
     },
     "execution_count": 308,
     "metadata": {},
     "output_type": "execute_result"
    }
   ],
   "source": [
    "def ufunc_reduce(ufct, *vectors):\n",
    "    vs = np.ix_(*vectors)\n",
    "    r=ufct.identity\n",
    "    for v in vs:\n",
    "        r = ufct(r,v)\n",
    "    return r\n",
    "ufunc_reduce(np.add,a,b,c)"
   ]
  },
  {
   "cell_type": "code",
   "execution_count": 333,
   "metadata": {},
   "outputs": [
    {
     "name": "stdout",
     "output_type": "stream",
     "text": [
      "[[1. 2.]\n",
      " [3. 4.]]\n",
      "transpose\n",
      "[[1. 3.]\n",
      " [2. 4.]]\n",
      "inverse\n",
      "[[-2.   1. ]\n",
      " [ 1.5 -0.5]]\n",
      "Identity matrix\n",
      "[[1. 0.]\n",
      " [0. 1.]]\n",
      "new matrix\n",
      "[[ 0. -1.]\n",
      " [ 1.  0.]]\n",
      "matrix product\n",
      "[[-1.  0.]\n",
      " [ 0. -1.]]\n",
      "sum of diagonal entries\n",
      "2.0\n"
     ]
    },
    {
     "data": {
      "text/plain": [
       "array([[-3.],\n",
       "       [ 4.]])"
      ]
     },
     "execution_count": 333,
     "metadata": {},
     "output_type": "execute_result"
    }
   ],
   "source": [
    "a = np.array([[1.0,2.0],[3.0,4.0]])\n",
    "print(a)\n",
    "print(\"transpose\")\n",
    "print(a.transpose()) ##==a.T\n",
    "print(\"inverse\")\n",
    "print(np.linalg.inv(a))\n",
    "print(\"Identity matrix\")\n",
    "u = np.eye(2) ##I ==eye\n",
    "print(u)\n",
    "\n",
    "j = np.array([[0.0, -1.0],[1.0,0.0]])\n",
    "print(\"new matrix\")\n",
    "print(j)\n",
    "print(\"matrix product\")\n",
    "print(j@j)\n",
    "\n",
    "print(\"sum of diagonal entries\")\n",
    "print(np.trace(u))\n",
    "\n"
   ]
  },
  {
   "cell_type": "code",
   "execution_count": 362,
   "metadata": {},
   "outputs": [
    {
     "name": "stdout",
     "output_type": "stream",
     "text": [
      "b,A\n",
      "[[5.]\n",
      " [7.]] \n",
      "\n",
      " [[1. 2.]\n",
      " [3. 4.]]\n",
      "solve system of equations\n",
      "answer\n",
      " [[-3.]\n",
      " [ 4.]]\n",
      "check answer\n",
      " [[5.]\n",
      " [7.]]\n"
     ]
    },
    {
     "data": {
      "text/plain": [
       "array([[-3.],\n",
       "       [ 4.]])"
      ]
     },
     "execution_count": 362,
     "metadata": {},
     "output_type": "execute_result"
    }
   ],
   "source": [
    "print(\"b,A\")\n",
    "y = np.array([[5.],[7.]])\n",
    "print(y, \"\\n\\n\", a)\n",
    "print(\"solve system of equations\")\n",
    "print(\"answer\\n\",np.linalg.solve(a,y))\n",
    "\n",
    "print(\"check answer\\n\",a@np.linalg.solve(a,y))\n",
    "invA = np.linalg.inv(a)\n",
    "invA@y"
   ]
  },
  {
   "cell_type": "code",
   "execution_count": 371,
   "metadata": {},
   "outputs": [
    {
     "name": "stdout",
     "output_type": "stream",
     "text": [
      "[[1 0]\n",
      " [0 2]]\n",
      "eigen values\n",
      "[1. 2.]\n",
      "eigen vectors\n",
      "[[1. 0.]\n",
      " [0. 1.]]\n",
      "check eigen vectors\n",
      "True\n",
      "True\n"
     ]
    }
   ],
   "source": [
    "x = np.array([[1,0],[0,2]])\n",
    "e = np.linalg.eig(x)\n",
    "print(x)\n",
    "print(\"eigen values\")\n",
    "print(e[0])\n",
    "print(\"eigen vectors\")\n",
    "print(e[1])\n",
    "print(\"check eigen vectors\")\n",
    "print(np.all(x@e[1][0]==e[0][0]*e[1][0]))\n",
    "print(np.all(x@e[1][1]==e[0][1]*e[1][1]))"
   ]
  },
  {
   "cell_type": "code",
   "execution_count": 373,
   "metadata": {},
   "outputs": [
    {
     "data": {
      "text/plain": [
       "(2, 5, 3)"
      ]
     },
     "execution_count": 373,
     "metadata": {},
     "output_type": "execute_result"
    }
   ],
   "source": [
    "a = np.arange(30)\n",
    "b = a.reshape((2,-1,3))\n",
    "b.shape"
   ]
  },
  {
   "cell_type": "code",
   "execution_count": 380,
   "metadata": {},
   "outputs": [
    {
     "name": "stdout",
     "output_type": "stream",
     "text": [
      "True\n",
      "True\n"
     ]
    }
   ],
   "source": [
    "x = np.arange(0,10,2)\n",
    "y = np.arange(5)\n",
    "m = np.vstack((x,y))\n",
    "n = np.vstack([x,y])\n",
    "print(np.all(m == n))\n",
    "mm = np.hstack((x,y))\n",
    "nn = np.hstack([x,y])\n",
    "print(np.all(m==n))"
   ]
  },
  {
   "cell_type": "code",
   "execution_count": 428,
   "metadata": {},
   "outputs": [
    {
     "name": "stdout",
     "output_type": "stream",
     "text": [
      "n\n",
      " 50\n",
      "bins\n",
      " [0.11991713 0.19761353 0.27530993 0.35300633 0.43070273 0.50839913\n",
      " 0.58609553 0.66379193 0.74148833 0.81918473 0.89688113 0.97457753\n",
      " 1.05227393 1.12997033 1.20766673 1.28536313 1.36305953 1.44075593\n",
      " 1.51845233 1.59614873 1.67384513 1.75154153 1.82923793 1.90693433\n",
      " 1.98463073 2.06232713 2.14002353 2.21771993 2.29541634 2.37311274\n",
      " 2.45080914 2.52850554 2.60620194 2.68389834 2.76159474 2.83929114\n",
      " 2.91698754 2.99468394 3.07238034 3.15007674 3.22777314 3.30546954\n",
      " 3.38316594 3.46086234 3.53855874 3.61625514 3.69395154 3.77164794\n",
      " 3.84934434 3.92704074]\n"
     ]
    },
    {
     "data": {
      "text/plain": [
       "[<matplotlib.lines.Line2D at 0x2bd62bbc438>]"
      ]
     },
     "execution_count": 428,
     "metadata": {},
     "output_type": "execute_result"
    },
    {
     "data": {
      "image/png": "[encoded data removed]",
      "text/plain": [
       "<Figure size 432x288 with 1 Axes>"
      ]
     },
     "metadata": {
      "needs_background": "light"
     },
     "output_type": "display_data"
    }
   ],
   "source": [
    "rg = np.random.default_rng(1)\n",
    "mu, sig = 2,0.5\n",
    "v = rg.normal(mu, sig, 10000)\n",
    "# k = rg.normal(mu, sig, 10000)\n",
    "plt.hist(v,bins=50, density=1);\n",
    "(n, bins) = np.histogram(v,bins=50, density=True)\n",
    "# n =np.sort(n)\n",
    "# plt.plot(n);\n",
    "bins = 0.5*(bins[1:]+bins[:-1]) ###### WHY 0.5?\n",
    "print(\"n\\n\",len(n))\n",
    "print(\"bins\\n\",bins)\n",
    "plt.plot(bins,n)"
   ]
  },
  {
   "cell_type": "code",
   "execution_count": null,
   "metadata": {},
   "outputs": [],
   "source": []
  },
  {
   "cell_type": "code",
   "execution_count": null,
   "metadata": {},
   "outputs": [],
   "source": []
  }
 ],
 "metadata": {
  "kernelspec": {
   "display_name": "Python 3",
   "language": "python",
   "name": "python3"
  },
  "language_info": {
   "codemirror_mode": {
    "name": "ipython",
    "version": 3
   },
   "file_extension": ".py",
   "mimetype": "text/x-python",
   "name": "python",
   "nbconvert_exporter": "python",
   "pygments_lexer": "ipython3",
   "version": "3.7.1"
  }
 },
 "nbformat": 4,
 "nbformat_minor": 4
}
